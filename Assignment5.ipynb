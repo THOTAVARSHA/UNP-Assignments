{
  "nbformat": 4,
  "nbformat_minor": 0,
  "metadata": {
    "colab": {
      "name": "Assignment5.ipynb",
      "provenance": []
    },
    "kernelspec": {
      "name": "python3",
      "display_name": "Python 3"
    },
    "language_info": {
      "name": "python"
    }
  },
  "cells": [
    {
      "cell_type": "code",
      "execution_count": 1,
      "metadata": {
        "id": "Lqo_M-FTVgwm"
      },
      "outputs": [],
      "source": [
        "import numpy as np\n",
        "import pandas as pd\n",
        "import matplotlib.pyplot as plt\n",
        "import seaborn as sns\n",
        "import math\n",
        "sns.set(color_codes=True)"
      ]
    },
    {
      "cell_type": "markdown",
      "source": [
        "LOADING DATA\n",
        "\n",
        "In order to load the data, we will use the pandas library and particularly the 'read_excel' method."
      ],
      "metadata": {
        "id": "wVJ61Bm2W0td"
      }
    },
    {
      "cell_type": "code",
      "source": [
        "data = pd.read_excel('Housing.xlsx')\n",
        "data.head()"
      ],
      "metadata": {
        "colab": {
          "base_uri": "https://localhost:8080/",
          "height": 444
        },
        "id": "w_CYe-5IW3by",
        "outputId": "4dad3415-42c1-4ea0-901e-bebce390348c"
      },
      "execution_count": 2,
      "outputs": [
        {
          "output_type": "execute_result",
          "data": {
            "text/plain": [
              "   UniqueID         LandUse                     PropertyAddress   SaleDate  \\\n",
              "0     2045.0  SINGLE FAMILY  1808  FOX CHASE DR, GOODLETTSVILLE 2013-04-09   \n",
              "1    16918.0  SINGLE FAMILY  1832  FOX CHASE DR, GOODLETTSVILLE 2014-06-10   \n",
              "2    54582.0  SINGLE FAMILY  1864 FOX CHASE  DR, GOODLETTSVILLE 2016-09-26   \n",
              "3    43070.0  SINGLE FAMILY  1853  FOX CHASE DR, GOODLETTSVILLE 2016-01-29   \n",
              "4    22714.0  SINGLE FAMILY  1829  FOX CHASE DR, GOODLETTSVILLE 2014-10-10   \n",
              "\n",
              "   SalePrice  Acre  LandValue  BuildingValue  TotalValue  YearBuilt  Bedrooms  \\\n",
              "0   240000.0   2.3    50000.0       168200.0    235700.0     1986.0       3.0   \n",
              "1   366000.0   3.5    50000.0       264100.0    319000.0     1998.0       3.0   \n",
              "2   435000.0   2.9    50000.0       216200.0    298000.0     1987.0       4.0   \n",
              "3   255000.0   2.6    50000.0       147300.0    197300.0     1985.0       3.0   \n",
              "4   278000.0   2.0    50000.0       152300.0    202300.0     1984.0       4.0   \n",
              "\n",
              "   FullBath  HalfBath  \n",
              "0       3.0       0.0  \n",
              "1       3.0       2.0  \n",
              "2       3.0       0.0  \n",
              "3       3.0       0.0  \n",
              "4       3.0       0.0  "
            ],
            "text/html": [
              "\n",
              "  <div id=\"df-ad597fba-f0ca-462f-9480-3548033aa86e\">\n",
              "    <div class=\"colab-df-container\">\n",
              "      <div>\n",
              "<style scoped>\n",
              "    .dataframe tbody tr th:only-of-type {\n",
              "        vertical-align: middle;\n",
              "    }\n",
              "\n",
              "    .dataframe tbody tr th {\n",
              "        vertical-align: top;\n",
              "    }\n",
              "\n",
              "    .dataframe thead th {\n",
              "        text-align: right;\n",
              "    }\n",
              "</style>\n",
              "<table border=\"1\" class=\"dataframe\">\n",
              "  <thead>\n",
              "    <tr style=\"text-align: right;\">\n",
              "      <th></th>\n",
              "      <th>UniqueID</th>\n",
              "      <th>LandUse</th>\n",
              "      <th>PropertyAddress</th>\n",
              "      <th>SaleDate</th>\n",
              "      <th>SalePrice</th>\n",
              "      <th>Acre</th>\n",
              "      <th>LandValue</th>\n",
              "      <th>BuildingValue</th>\n",
              "      <th>TotalValue</th>\n",
              "      <th>YearBuilt</th>\n",
              "      <th>Bedrooms</th>\n",
              "      <th>FullBath</th>\n",
              "      <th>HalfBath</th>\n",
              "    </tr>\n",
              "  </thead>\n",
              "  <tbody>\n",
              "    <tr>\n",
              "      <th>0</th>\n",
              "      <td>2045.0</td>\n",
              "      <td>SINGLE FAMILY</td>\n",
              "      <td>1808  FOX CHASE DR, GOODLETTSVILLE</td>\n",
              "      <td>2013-04-09</td>\n",
              "      <td>240000.0</td>\n",
              "      <td>2.3</td>\n",
              "      <td>50000.0</td>\n",
              "      <td>168200.0</td>\n",
              "      <td>235700.0</td>\n",
              "      <td>1986.0</td>\n",
              "      <td>3.0</td>\n",
              "      <td>3.0</td>\n",
              "      <td>0.0</td>\n",
              "    </tr>\n",
              "    <tr>\n",
              "      <th>1</th>\n",
              "      <td>16918.0</td>\n",
              "      <td>SINGLE FAMILY</td>\n",
              "      <td>1832  FOX CHASE DR, GOODLETTSVILLE</td>\n",
              "      <td>2014-06-10</td>\n",
              "      <td>366000.0</td>\n",
              "      <td>3.5</td>\n",
              "      <td>50000.0</td>\n",
              "      <td>264100.0</td>\n",
              "      <td>319000.0</td>\n",
              "      <td>1998.0</td>\n",
              "      <td>3.0</td>\n",
              "      <td>3.0</td>\n",
              "      <td>2.0</td>\n",
              "    </tr>\n",
              "    <tr>\n",
              "      <th>2</th>\n",
              "      <td>54582.0</td>\n",
              "      <td>SINGLE FAMILY</td>\n",
              "      <td>1864 FOX CHASE  DR, GOODLETTSVILLE</td>\n",
              "      <td>2016-09-26</td>\n",
              "      <td>435000.0</td>\n",
              "      <td>2.9</td>\n",
              "      <td>50000.0</td>\n",
              "      <td>216200.0</td>\n",
              "      <td>298000.0</td>\n",
              "      <td>1987.0</td>\n",
              "      <td>4.0</td>\n",
              "      <td>3.0</td>\n",
              "      <td>0.0</td>\n",
              "    </tr>\n",
              "    <tr>\n",
              "      <th>3</th>\n",
              "      <td>43070.0</td>\n",
              "      <td>SINGLE FAMILY</td>\n",
              "      <td>1853  FOX CHASE DR, GOODLETTSVILLE</td>\n",
              "      <td>2016-01-29</td>\n",
              "      <td>255000.0</td>\n",
              "      <td>2.6</td>\n",
              "      <td>50000.0</td>\n",
              "      <td>147300.0</td>\n",
              "      <td>197300.0</td>\n",
              "      <td>1985.0</td>\n",
              "      <td>3.0</td>\n",
              "      <td>3.0</td>\n",
              "      <td>0.0</td>\n",
              "    </tr>\n",
              "    <tr>\n",
              "      <th>4</th>\n",
              "      <td>22714.0</td>\n",
              "      <td>SINGLE FAMILY</td>\n",
              "      <td>1829  FOX CHASE DR, GOODLETTSVILLE</td>\n",
              "      <td>2014-10-10</td>\n",
              "      <td>278000.0</td>\n",
              "      <td>2.0</td>\n",
              "      <td>50000.0</td>\n",
              "      <td>152300.0</td>\n",
              "      <td>202300.0</td>\n",
              "      <td>1984.0</td>\n",
              "      <td>4.0</td>\n",
              "      <td>3.0</td>\n",
              "      <td>0.0</td>\n",
              "    </tr>\n",
              "  </tbody>\n",
              "</table>\n",
              "</div>\n",
              "      <button class=\"colab-df-convert\" onclick=\"convertToInteractive('df-ad597fba-f0ca-462f-9480-3548033aa86e')\"\n",
              "              title=\"Convert this dataframe to an interactive table.\"\n",
              "              style=\"display:none;\">\n",
              "        \n",
              "  <svg xmlns=\"http://www.w3.org/2000/svg\" height=\"24px\"viewBox=\"0 0 24 24\"\n",
              "       width=\"24px\">\n",
              "    <path d=\"M0 0h24v24H0V0z\" fill=\"none\"/>\n",
              "    <path d=\"M18.56 5.44l.94 2.06.94-2.06 2.06-.94-2.06-.94-.94-2.06-.94 2.06-2.06.94zm-11 1L8.5 8.5l.94-2.06 2.06-.94-2.06-.94L8.5 2.5l-.94 2.06-2.06.94zm10 10l.94 2.06.94-2.06 2.06-.94-2.06-.94-.94-2.06-.94 2.06-2.06.94z\"/><path d=\"M17.41 7.96l-1.37-1.37c-.4-.4-.92-.59-1.43-.59-.52 0-1.04.2-1.43.59L10.3 9.45l-7.72 7.72c-.78.78-.78 2.05 0 2.83L4 21.41c.39.39.9.59 1.41.59.51 0 1.02-.2 1.41-.59l7.78-7.78 2.81-2.81c.8-.78.8-2.07 0-2.86zM5.41 20L4 18.59l7.72-7.72 1.47 1.35L5.41 20z\"/>\n",
              "  </svg>\n",
              "      </button>\n",
              "      \n",
              "  <style>\n",
              "    .colab-df-container {\n",
              "      display:flex;\n",
              "      flex-wrap:wrap;\n",
              "      gap: 12px;\n",
              "    }\n",
              "\n",
              "    .colab-df-convert {\n",
              "      background-color: #E8F0FE;\n",
              "      border: none;\n",
              "      border-radius: 50%;\n",
              "      cursor: pointer;\n",
              "      display: none;\n",
              "      fill: #1967D2;\n",
              "      height: 32px;\n",
              "      padding: 0 0 0 0;\n",
              "      width: 32px;\n",
              "    }\n",
              "\n",
              "    .colab-df-convert:hover {\n",
              "      background-color: #E2EBFA;\n",
              "      box-shadow: 0px 1px 2px rgba(60, 64, 67, 0.3), 0px 1px 3px 1px rgba(60, 64, 67, 0.15);\n",
              "      fill: #174EA6;\n",
              "    }\n",
              "\n",
              "    [theme=dark] .colab-df-convert {\n",
              "      background-color: #3B4455;\n",
              "      fill: #D2E3FC;\n",
              "    }\n",
              "\n",
              "    [theme=dark] .colab-df-convert:hover {\n",
              "      background-color: #434B5C;\n",
              "      box-shadow: 0px 1px 3px 1px rgba(0, 0, 0, 0.15);\n",
              "      filter: drop-shadow(0px 1px 2px rgba(0, 0, 0, 0.3));\n",
              "      fill: #FFFFFF;\n",
              "    }\n",
              "  </style>\n",
              "\n",
              "      <script>\n",
              "        const buttonEl =\n",
              "          document.querySelector('#df-ad597fba-f0ca-462f-9480-3548033aa86e button.colab-df-convert');\n",
              "        buttonEl.style.display =\n",
              "          google.colab.kernel.accessAllowed ? 'block' : 'none';\n",
              "\n",
              "        async function convertToInteractive(key) {\n",
              "          const element = document.querySelector('#df-ad597fba-f0ca-462f-9480-3548033aa86e');\n",
              "          const dataTable =\n",
              "            await google.colab.kernel.invokeFunction('convertToInteractive',\n",
              "                                                     [key], {});\n",
              "          if (!dataTable) return;\n",
              "\n",
              "          const docLinkHtml = 'Like what you see? Visit the ' +\n",
              "            '<a target=\"_blank\" href=https://colab.research.google.com/notebooks/data_table.ipynb>data table notebook</a>'\n",
              "            + ' to learn more about interactive tables.';\n",
              "          element.innerHTML = '';\n",
              "          dataTable['output_type'] = 'display_data';\n",
              "          await google.colab.output.renderOutput(dataTable, element);\n",
              "          const docLink = document.createElement('div');\n",
              "          docLink.innerHTML = docLinkHtml;\n",
              "          element.appendChild(docLink);\n",
              "        }\n",
              "      </script>\n",
              "    </div>\n",
              "  </div>\n",
              "  "
            ]
          },
          "metadata": {},
          "execution_count": 2
        }
      ]
    },
    {
      "cell_type": "markdown",
      "source": [
        "CLEANING DATA\n",
        "\n",
        "The major goal of cleaning data is to ensure that all the null values are either eliminated or replaced so as to ensure that the data is fit for analysis."
      ],
      "metadata": {
        "id": "2gKGhBJzXGLZ"
      }
    },
    {
      "cell_type": "code",
      "source": [
        "data.isnull().sum()"
      ],
      "metadata": {
        "colab": {
          "base_uri": "https://localhost:8080/"
        },
        "id": "sFldk2TQXIXV",
        "outputId": "09c99159-a976-4776-8888-8c7110be13e3"
      },
      "execution_count": 3,
      "outputs": [
        {
          "output_type": "execute_result",
          "data": {
            "text/plain": [
              "UniqueID               0\n",
              "LandUse                0\n",
              "PropertyAddress       29\n",
              "SaleDate               0\n",
              "SalePrice              0\n",
              "Acre               30462\n",
              "LandValue          30462\n",
              "BuildingValue      30462\n",
              "TotalValue         30462\n",
              "YearBuilt          32314\n",
              "Bedrooms           32320\n",
              "FullBath           32202\n",
              "HalfBath           32333\n",
              "dtype: int64"
            ]
          },
          "metadata": {},
          "execution_count": 3
        }
      ]
    },
    {
      "cell_type": "markdown",
      "source": [
        "1. Replace the missing values with appropriate approximations"
      ],
      "metadata": {
        "id": "oBKi5VGcXREC"
      }
    },
    {
      "cell_type": "markdown",
      "source": [
        "Here we are filling all of the null values, with the mean value of their corresponding columns."
      ],
      "metadata": {
        "id": "QLhJV5YWXYSd"
      }
    },
    {
      "cell_type": "code",
      "source": [
        "data['Acre']=data[\"Acre\"].fillna(np.mean(data[\"Acre\"]))\n",
        "data['LandValue']=data[\"LandValue\"].fillna(np.mean(data[\"LandValue\"]))\n",
        "data['BuildingValue']=data[\"BuildingValue\"].fillna(np.mean(data[\"BuildingValue\"]))\n",
        "data['TotalValue']=data[\"TotalValue\"].fillna(np.mean(data[\"TotalValue\"]))\n",
        "data['YearBuilt']=data[\"YearBuilt\"].fillna(np.mean(data[\"YearBuilt\"]))\n",
        "data['Bedrooms']=data[\"Bedrooms\"].fillna(np.mean(data[\"Bedrooms\"]))\n",
        "data['FullBath']=data[\"FullBath\"].fillna(np.mean(data[\"FullBath\"]))\n",
        "data['HalfBath']=data[\"HalfBath\"].fillna(np.mean(data[\"HalfBath\"]))\n",
        "data"
      ],
      "metadata": {
        "colab": {
          "base_uri": "https://localhost:8080/",
          "height": 835
        },
        "id": "zrbfgnXgXZfP",
        "outputId": "7b86d500-9f77-48d0-f7fb-d61fb8e3f062"
      },
      "execution_count": 4,
      "outputs": [
        {
          "output_type": "execute_result",
          "data": {
            "text/plain": [
              "       UniqueID                   LandUse  \\\n",
              "0         2045.0            SINGLE FAMILY   \n",
              "1        16918.0            SINGLE FAMILY   \n",
              "2        54582.0            SINGLE FAMILY   \n",
              "3        43070.0            SINGLE FAMILY   \n",
              "4        22714.0            SINGLE FAMILY   \n",
              "...          ...                      ...   \n",
              "56472    30469.0            SINGLE FAMILY   \n",
              "56473    27707.0            SINGLE FAMILY   \n",
              "56474    52709.0  VACANT RESIDENTIAL LAND   \n",
              "56475    54042.0  VACANT RESIDENTIAL LAND   \n",
              "56476    54043.0  VACANT RESIDENTIAL LAND   \n",
              "\n",
              "                           PropertyAddress   SaleDate  SalePrice      Acre  \\\n",
              "0       1808  FOX CHASE DR, GOODLETTSVILLE 2013-04-09   240000.0  2.300000   \n",
              "1       1832  FOX CHASE DR, GOODLETTSVILLE 2014-06-10   366000.0  3.500000   \n",
              "2       1864 FOX CHASE  DR, GOODLETTSVILLE 2016-09-26   435000.0  2.900000   \n",
              "3       1853  FOX CHASE DR, GOODLETTSVILLE 2016-01-29   255000.0  2.600000   \n",
              "4       1829  FOX CHASE DR, GOODLETTSVILLE 2014-10-10   278000.0  2.000000   \n",
              "...                                    ...        ...        ...       ...   \n",
              "56472  1435  WINDING CREEK DR, NOLENSVILLE 2015-05-27   157500.0  0.498923   \n",
              "56473  1423  WINDING CREEK DR, NOLENSVILLE 2015-03-02   145000.0  0.498923   \n",
              "56474    1804 GRACE POINT  LN, NOLENSVILLE 2016-08-16   234611.0  0.498923   \n",
              "56475   1709 PARK TERRACE  LN, NOLENSVILLE 2016-09-07    93844.0  0.498923   \n",
              "56476   1713 PARK TERRACE  LN, NOLENSVILLE 2016-09-07    93844.0  0.498923   \n",
              "\n",
              "          LandValue  BuildingValue     TotalValue    YearBuilt  Bedrooms  \\\n",
              "0      50000.000000  168200.000000  235700.000000  1986.000000  3.000000   \n",
              "1      50000.000000  264100.000000  319000.000000  1998.000000  3.000000   \n",
              "2      50000.000000  216200.000000  298000.000000  1987.000000  4.000000   \n",
              "3      50000.000000  147300.000000  197300.000000  1985.000000  3.000000   \n",
              "4      50000.000000  152300.000000  202300.000000  1984.000000  4.000000   \n",
              "...             ...            ...            ...          ...       ...   \n",
              "56472  69068.557601  160784.677109  232375.398847  1963.744899  3.089912   \n",
              "56473  69068.557601  160784.677109  232375.398847  1963.744899  3.089912   \n",
              "56474  69068.557601  160784.677109  232375.398847  1963.744899  3.089912   \n",
              "56475  69068.557601  160784.677109  232375.398847  1963.744899  3.089912   \n",
              "56476  69068.557601  160784.677109  232375.398847  1963.744899  3.089912   \n",
              "\n",
              "       FullBath  HalfBath  \n",
              "0      3.000000  0.000000  \n",
              "1      3.000000  2.000000  \n",
              "2      3.000000  0.000000  \n",
              "3      3.000000  0.000000  \n",
              "4      3.000000  0.000000  \n",
              "...         ...       ...  \n",
              "56472  1.886014  0.283921  \n",
              "56473  1.886014  0.283921  \n",
              "56474  1.886014  0.283921  \n",
              "56475  1.886014  0.283921  \n",
              "56476  1.886014  0.283921  \n",
              "\n",
              "[56477 rows x 13 columns]"
            ],
            "text/html": [
              "\n",
              "  <div id=\"df-43472b7f-2f76-49b5-b620-592cebce76fa\">\n",
              "    <div class=\"colab-df-container\">\n",
              "      <div>\n",
              "<style scoped>\n",
              "    .dataframe tbody tr th:only-of-type {\n",
              "        vertical-align: middle;\n",
              "    }\n",
              "\n",
              "    .dataframe tbody tr th {\n",
              "        vertical-align: top;\n",
              "    }\n",
              "\n",
              "    .dataframe thead th {\n",
              "        text-align: right;\n",
              "    }\n",
              "</style>\n",
              "<table border=\"1\" class=\"dataframe\">\n",
              "  <thead>\n",
              "    <tr style=\"text-align: right;\">\n",
              "      <th></th>\n",
              "      <th>UniqueID</th>\n",
              "      <th>LandUse</th>\n",
              "      <th>PropertyAddress</th>\n",
              "      <th>SaleDate</th>\n",
              "      <th>SalePrice</th>\n",
              "      <th>Acre</th>\n",
              "      <th>LandValue</th>\n",
              "      <th>BuildingValue</th>\n",
              "      <th>TotalValue</th>\n",
              "      <th>YearBuilt</th>\n",
              "      <th>Bedrooms</th>\n",
              "      <th>FullBath</th>\n",
              "      <th>HalfBath</th>\n",
              "    </tr>\n",
              "  </thead>\n",
              "  <tbody>\n",
              "    <tr>\n",
              "      <th>0</th>\n",
              "      <td>2045.0</td>\n",
              "      <td>SINGLE FAMILY</td>\n",
              "      <td>1808  FOX CHASE DR, GOODLETTSVILLE</td>\n",
              "      <td>2013-04-09</td>\n",
              "      <td>240000.0</td>\n",
              "      <td>2.300000</td>\n",
              "      <td>50000.000000</td>\n",
              "      <td>168200.000000</td>\n",
              "      <td>235700.000000</td>\n",
              "      <td>1986.000000</td>\n",
              "      <td>3.000000</td>\n",
              "      <td>3.000000</td>\n",
              "      <td>0.000000</td>\n",
              "    </tr>\n",
              "    <tr>\n",
              "      <th>1</th>\n",
              "      <td>16918.0</td>\n",
              "      <td>SINGLE FAMILY</td>\n",
              "      <td>1832  FOX CHASE DR, GOODLETTSVILLE</td>\n",
              "      <td>2014-06-10</td>\n",
              "      <td>366000.0</td>\n",
              "      <td>3.500000</td>\n",
              "      <td>50000.000000</td>\n",
              "      <td>264100.000000</td>\n",
              "      <td>319000.000000</td>\n",
              "      <td>1998.000000</td>\n",
              "      <td>3.000000</td>\n",
              "      <td>3.000000</td>\n",
              "      <td>2.000000</td>\n",
              "    </tr>\n",
              "    <tr>\n",
              "      <th>2</th>\n",
              "      <td>54582.0</td>\n",
              "      <td>SINGLE FAMILY</td>\n",
              "      <td>1864 FOX CHASE  DR, GOODLETTSVILLE</td>\n",
              "      <td>2016-09-26</td>\n",
              "      <td>435000.0</td>\n",
              "      <td>2.900000</td>\n",
              "      <td>50000.000000</td>\n",
              "      <td>216200.000000</td>\n",
              "      <td>298000.000000</td>\n",
              "      <td>1987.000000</td>\n",
              "      <td>4.000000</td>\n",
              "      <td>3.000000</td>\n",
              "      <td>0.000000</td>\n",
              "    </tr>\n",
              "    <tr>\n",
              "      <th>3</th>\n",
              "      <td>43070.0</td>\n",
              "      <td>SINGLE FAMILY</td>\n",
              "      <td>1853  FOX CHASE DR, GOODLETTSVILLE</td>\n",
              "      <td>2016-01-29</td>\n",
              "      <td>255000.0</td>\n",
              "      <td>2.600000</td>\n",
              "      <td>50000.000000</td>\n",
              "      <td>147300.000000</td>\n",
              "      <td>197300.000000</td>\n",
              "      <td>1985.000000</td>\n",
              "      <td>3.000000</td>\n",
              "      <td>3.000000</td>\n",
              "      <td>0.000000</td>\n",
              "    </tr>\n",
              "    <tr>\n",
              "      <th>4</th>\n",
              "      <td>22714.0</td>\n",
              "      <td>SINGLE FAMILY</td>\n",
              "      <td>1829  FOX CHASE DR, GOODLETTSVILLE</td>\n",
              "      <td>2014-10-10</td>\n",
              "      <td>278000.0</td>\n",
              "      <td>2.000000</td>\n",
              "      <td>50000.000000</td>\n",
              "      <td>152300.000000</td>\n",
              "      <td>202300.000000</td>\n",
              "      <td>1984.000000</td>\n",
              "      <td>4.000000</td>\n",
              "      <td>3.000000</td>\n",
              "      <td>0.000000</td>\n",
              "    </tr>\n",
              "    <tr>\n",
              "      <th>...</th>\n",
              "      <td>...</td>\n",
              "      <td>...</td>\n",
              "      <td>...</td>\n",
              "      <td>...</td>\n",
              "      <td>...</td>\n",
              "      <td>...</td>\n",
              "      <td>...</td>\n",
              "      <td>...</td>\n",
              "      <td>...</td>\n",
              "      <td>...</td>\n",
              "      <td>...</td>\n",
              "      <td>...</td>\n",
              "      <td>...</td>\n",
              "    </tr>\n",
              "    <tr>\n",
              "      <th>56472</th>\n",
              "      <td>30469.0</td>\n",
              "      <td>SINGLE FAMILY</td>\n",
              "      <td>1435  WINDING CREEK DR, NOLENSVILLE</td>\n",
              "      <td>2015-05-27</td>\n",
              "      <td>157500.0</td>\n",
              "      <td>0.498923</td>\n",
              "      <td>69068.557601</td>\n",
              "      <td>160784.677109</td>\n",
              "      <td>232375.398847</td>\n",
              "      <td>1963.744899</td>\n",
              "      <td>3.089912</td>\n",
              "      <td>1.886014</td>\n",
              "      <td>0.283921</td>\n",
              "    </tr>\n",
              "    <tr>\n",
              "      <th>56473</th>\n",
              "      <td>27707.0</td>\n",
              "      <td>SINGLE FAMILY</td>\n",
              "      <td>1423  WINDING CREEK DR, NOLENSVILLE</td>\n",
              "      <td>2015-03-02</td>\n",
              "      <td>145000.0</td>\n",
              "      <td>0.498923</td>\n",
              "      <td>69068.557601</td>\n",
              "      <td>160784.677109</td>\n",
              "      <td>232375.398847</td>\n",
              "      <td>1963.744899</td>\n",
              "      <td>3.089912</td>\n",
              "      <td>1.886014</td>\n",
              "      <td>0.283921</td>\n",
              "    </tr>\n",
              "    <tr>\n",
              "      <th>56474</th>\n",
              "      <td>52709.0</td>\n",
              "      <td>VACANT RESIDENTIAL LAND</td>\n",
              "      <td>1804 GRACE POINT  LN, NOLENSVILLE</td>\n",
              "      <td>2016-08-16</td>\n",
              "      <td>234611.0</td>\n",
              "      <td>0.498923</td>\n",
              "      <td>69068.557601</td>\n",
              "      <td>160784.677109</td>\n",
              "      <td>232375.398847</td>\n",
              "      <td>1963.744899</td>\n",
              "      <td>3.089912</td>\n",
              "      <td>1.886014</td>\n",
              "      <td>0.283921</td>\n",
              "    </tr>\n",
              "    <tr>\n",
              "      <th>56475</th>\n",
              "      <td>54042.0</td>\n",
              "      <td>VACANT RESIDENTIAL LAND</td>\n",
              "      <td>1709 PARK TERRACE  LN, NOLENSVILLE</td>\n",
              "      <td>2016-09-07</td>\n",
              "      <td>93844.0</td>\n",
              "      <td>0.498923</td>\n",
              "      <td>69068.557601</td>\n",
              "      <td>160784.677109</td>\n",
              "      <td>232375.398847</td>\n",
              "      <td>1963.744899</td>\n",
              "      <td>3.089912</td>\n",
              "      <td>1.886014</td>\n",
              "      <td>0.283921</td>\n",
              "    </tr>\n",
              "    <tr>\n",
              "      <th>56476</th>\n",
              "      <td>54043.0</td>\n",
              "      <td>VACANT RESIDENTIAL LAND</td>\n",
              "      <td>1713 PARK TERRACE  LN, NOLENSVILLE</td>\n",
              "      <td>2016-09-07</td>\n",
              "      <td>93844.0</td>\n",
              "      <td>0.498923</td>\n",
              "      <td>69068.557601</td>\n",
              "      <td>160784.677109</td>\n",
              "      <td>232375.398847</td>\n",
              "      <td>1963.744899</td>\n",
              "      <td>3.089912</td>\n",
              "      <td>1.886014</td>\n",
              "      <td>0.283921</td>\n",
              "    </tr>\n",
              "  </tbody>\n",
              "</table>\n",
              "<p>56477 rows × 13 columns</p>\n",
              "</div>\n",
              "      <button class=\"colab-df-convert\" onclick=\"convertToInteractive('df-43472b7f-2f76-49b5-b620-592cebce76fa')\"\n",
              "              title=\"Convert this dataframe to an interactive table.\"\n",
              "              style=\"display:none;\">\n",
              "        \n",
              "  <svg xmlns=\"http://www.w3.org/2000/svg\" height=\"24px\"viewBox=\"0 0 24 24\"\n",
              "       width=\"24px\">\n",
              "    <path d=\"M0 0h24v24H0V0z\" fill=\"none\"/>\n",
              "    <path d=\"M18.56 5.44l.94 2.06.94-2.06 2.06-.94-2.06-.94-.94-2.06-.94 2.06-2.06.94zm-11 1L8.5 8.5l.94-2.06 2.06-.94-2.06-.94L8.5 2.5l-.94 2.06-2.06.94zm10 10l.94 2.06.94-2.06 2.06-.94-2.06-.94-.94-2.06-.94 2.06-2.06.94z\"/><path d=\"M17.41 7.96l-1.37-1.37c-.4-.4-.92-.59-1.43-.59-.52 0-1.04.2-1.43.59L10.3 9.45l-7.72 7.72c-.78.78-.78 2.05 0 2.83L4 21.41c.39.39.9.59 1.41.59.51 0 1.02-.2 1.41-.59l7.78-7.78 2.81-2.81c.8-.78.8-2.07 0-2.86zM5.41 20L4 18.59l7.72-7.72 1.47 1.35L5.41 20z\"/>\n",
              "  </svg>\n",
              "      </button>\n",
              "      \n",
              "  <style>\n",
              "    .colab-df-container {\n",
              "      display:flex;\n",
              "      flex-wrap:wrap;\n",
              "      gap: 12px;\n",
              "    }\n",
              "\n",
              "    .colab-df-convert {\n",
              "      background-color: #E8F0FE;\n",
              "      border: none;\n",
              "      border-radius: 50%;\n",
              "      cursor: pointer;\n",
              "      display: none;\n",
              "      fill: #1967D2;\n",
              "      height: 32px;\n",
              "      padding: 0 0 0 0;\n",
              "      width: 32px;\n",
              "    }\n",
              "\n",
              "    .colab-df-convert:hover {\n",
              "      background-color: #E2EBFA;\n",
              "      box-shadow: 0px 1px 2px rgba(60, 64, 67, 0.3), 0px 1px 3px 1px rgba(60, 64, 67, 0.15);\n",
              "      fill: #174EA6;\n",
              "    }\n",
              "\n",
              "    [theme=dark] .colab-df-convert {\n",
              "      background-color: #3B4455;\n",
              "      fill: #D2E3FC;\n",
              "    }\n",
              "\n",
              "    [theme=dark] .colab-df-convert:hover {\n",
              "      background-color: #434B5C;\n",
              "      box-shadow: 0px 1px 3px 1px rgba(0, 0, 0, 0.15);\n",
              "      filter: drop-shadow(0px 1px 2px rgba(0, 0, 0, 0.3));\n",
              "      fill: #FFFFFF;\n",
              "    }\n",
              "  </style>\n",
              "\n",
              "      <script>\n",
              "        const buttonEl =\n",
              "          document.querySelector('#df-43472b7f-2f76-49b5-b620-592cebce76fa button.colab-df-convert');\n",
              "        buttonEl.style.display =\n",
              "          google.colab.kernel.accessAllowed ? 'block' : 'none';\n",
              "\n",
              "        async function convertToInteractive(key) {\n",
              "          const element = document.querySelector('#df-43472b7f-2f76-49b5-b620-592cebce76fa');\n",
              "          const dataTable =\n",
              "            await google.colab.kernel.invokeFunction('convertToInteractive',\n",
              "                                                     [key], {});\n",
              "          if (!dataTable) return;\n",
              "\n",
              "          const docLinkHtml = 'Like what you see? Visit the ' +\n",
              "            '<a target=\"_blank\" href=https://colab.research.google.com/notebooks/data_table.ipynb>data table notebook</a>'\n",
              "            + ' to learn more about interactive tables.';\n",
              "          element.innerHTML = '';\n",
              "          dataTable['output_type'] = 'display_data';\n",
              "          await google.colab.output.renderOutput(dataTable, element);\n",
              "          const docLink = document.createElement('div');\n",
              "          docLink.innerHTML = docLinkHtml;\n",
              "          element.appendChild(docLink);\n",
              "        }\n",
              "      </script>\n",
              "    </div>\n",
              "  </div>\n",
              "  "
            ]
          },
          "metadata": {},
          "execution_count": 4
        }
      ]
    },
    {
      "cell_type": "markdown",
      "source": [
        "2. Rename the columns to better suited names\n",
        "\n",
        "Most of the columns are aptly named, maybe except for 'FullBath' and 'HalfBath'. So, we can rename them using the 'rename()' method."
      ],
      "metadata": {
        "id": "400B-ylEXlqt"
      }
    },
    {
      "cell_type": "code",
      "source": [
        "data.columns"
      ],
      "metadata": {
        "colab": {
          "base_uri": "https://localhost:8080/"
        },
        "id": "YPKHusf8XnBN",
        "outputId": "a12f8e94-8497-4af6-f80e-f567aa47a6d0"
      },
      "execution_count": 5,
      "outputs": [
        {
          "output_type": "execute_result",
          "data": {
            "text/plain": [
              "Index(['UniqueID ', 'LandUse', 'PropertyAddress', 'SaleDate', 'SalePrice',\n",
              "       'Acre', 'LandValue', 'BuildingValue', 'TotalValue', 'YearBuilt',\n",
              "       'Bedrooms', 'FullBath', 'HalfBath'],\n",
              "      dtype='object')"
            ]
          },
          "metadata": {},
          "execution_count": 5
        }
      ]
    },
    {
      "cell_type": "code",
      "source": [
        "data.rename(columns={\"FullBath\":\"FullBathroom\"},inplace=True)\n",
        "data.rename(columns={\"HalfBath\":\"HalfBathroom\"},inplace=True)"
      ],
      "metadata": {
        "id": "ex-ZhZzdXrgV"
      },
      "execution_count": 6,
      "outputs": []
    },
    {
      "cell_type": "markdown",
      "source": [
        "3. Extract the month and year from the sale date.\n",
        "\n",
        "We can use the 'DatetimeIndex' method in pandas to extract the year, month and day of any given date."
      ],
      "metadata": {
        "id": "YY7o3sDgXy69"
      }
    },
    {
      "cell_type": "code",
      "source": [
        "data['Year']=pd.DatetimeIndex(data['SaleDate']).year\n",
        "data['Month']=pd.DatetimeIndex(data['SaleDate']).month\n",
        "data['Day']=pd.DatetimeIndex(data['SaleDate']).day\n",
        "data"
      ],
      "metadata": {
        "colab": {
          "base_uri": "https://localhost:8080/",
          "height": 835
        },
        "id": "EB2f56GuX0BM",
        "outputId": "34b57f81-14a3-4fc1-f9aa-64177d980a99"
      },
      "execution_count": 7,
      "outputs": [
        {
          "output_type": "execute_result",
          "data": {
            "text/plain": [
              "       UniqueID                   LandUse  \\\n",
              "0         2045.0            SINGLE FAMILY   \n",
              "1        16918.0            SINGLE FAMILY   \n",
              "2        54582.0            SINGLE FAMILY   \n",
              "3        43070.0            SINGLE FAMILY   \n",
              "4        22714.0            SINGLE FAMILY   \n",
              "...          ...                      ...   \n",
              "56472    30469.0            SINGLE FAMILY   \n",
              "56473    27707.0            SINGLE FAMILY   \n",
              "56474    52709.0  VACANT RESIDENTIAL LAND   \n",
              "56475    54042.0  VACANT RESIDENTIAL LAND   \n",
              "56476    54043.0  VACANT RESIDENTIAL LAND   \n",
              "\n",
              "                           PropertyAddress   SaleDate  SalePrice      Acre  \\\n",
              "0       1808  FOX CHASE DR, GOODLETTSVILLE 2013-04-09   240000.0  2.300000   \n",
              "1       1832  FOX CHASE DR, GOODLETTSVILLE 2014-06-10   366000.0  3.500000   \n",
              "2       1864 FOX CHASE  DR, GOODLETTSVILLE 2016-09-26   435000.0  2.900000   \n",
              "3       1853  FOX CHASE DR, GOODLETTSVILLE 2016-01-29   255000.0  2.600000   \n",
              "4       1829  FOX CHASE DR, GOODLETTSVILLE 2014-10-10   278000.0  2.000000   \n",
              "...                                    ...        ...        ...       ...   \n",
              "56472  1435  WINDING CREEK DR, NOLENSVILLE 2015-05-27   157500.0  0.498923   \n",
              "56473  1423  WINDING CREEK DR, NOLENSVILLE 2015-03-02   145000.0  0.498923   \n",
              "56474    1804 GRACE POINT  LN, NOLENSVILLE 2016-08-16   234611.0  0.498923   \n",
              "56475   1709 PARK TERRACE  LN, NOLENSVILLE 2016-09-07    93844.0  0.498923   \n",
              "56476   1713 PARK TERRACE  LN, NOLENSVILLE 2016-09-07    93844.0  0.498923   \n",
              "\n",
              "          LandValue  BuildingValue     TotalValue    YearBuilt  Bedrooms  \\\n",
              "0      50000.000000  168200.000000  235700.000000  1986.000000  3.000000   \n",
              "1      50000.000000  264100.000000  319000.000000  1998.000000  3.000000   \n",
              "2      50000.000000  216200.000000  298000.000000  1987.000000  4.000000   \n",
              "3      50000.000000  147300.000000  197300.000000  1985.000000  3.000000   \n",
              "4      50000.000000  152300.000000  202300.000000  1984.000000  4.000000   \n",
              "...             ...            ...            ...          ...       ...   \n",
              "56472  69068.557601  160784.677109  232375.398847  1963.744899  3.089912   \n",
              "56473  69068.557601  160784.677109  232375.398847  1963.744899  3.089912   \n",
              "56474  69068.557601  160784.677109  232375.398847  1963.744899  3.089912   \n",
              "56475  69068.557601  160784.677109  232375.398847  1963.744899  3.089912   \n",
              "56476  69068.557601  160784.677109  232375.398847  1963.744899  3.089912   \n",
              "\n",
              "       FullBathroom  HalfBathroom  Year  Month  Day  \n",
              "0          3.000000      0.000000  2013      4    9  \n",
              "1          3.000000      2.000000  2014      6   10  \n",
              "2          3.000000      0.000000  2016      9   26  \n",
              "3          3.000000      0.000000  2016      1   29  \n",
              "4          3.000000      0.000000  2014     10   10  \n",
              "...             ...           ...   ...    ...  ...  \n",
              "56472      1.886014      0.283921  2015      5   27  \n",
              "56473      1.886014      0.283921  2015      3    2  \n",
              "56474      1.886014      0.283921  2016      8   16  \n",
              "56475      1.886014      0.283921  2016      9    7  \n",
              "56476      1.886014      0.283921  2016      9    7  \n",
              "\n",
              "[56477 rows x 16 columns]"
            ],
            "text/html": [
              "\n",
              "  <div id=\"df-1b62c196-dbd6-479a-9a11-8c78c869964f\">\n",
              "    <div class=\"colab-df-container\">\n",
              "      <div>\n",
              "<style scoped>\n",
              "    .dataframe tbody tr th:only-of-type {\n",
              "        vertical-align: middle;\n",
              "    }\n",
              "\n",
              "    .dataframe tbody tr th {\n",
              "        vertical-align: top;\n",
              "    }\n",
              "\n",
              "    .dataframe thead th {\n",
              "        text-align: right;\n",
              "    }\n",
              "</style>\n",
              "<table border=\"1\" class=\"dataframe\">\n",
              "  <thead>\n",
              "    <tr style=\"text-align: right;\">\n",
              "      <th></th>\n",
              "      <th>UniqueID</th>\n",
              "      <th>LandUse</th>\n",
              "      <th>PropertyAddress</th>\n",
              "      <th>SaleDate</th>\n",
              "      <th>SalePrice</th>\n",
              "      <th>Acre</th>\n",
              "      <th>LandValue</th>\n",
              "      <th>BuildingValue</th>\n",
              "      <th>TotalValue</th>\n",
              "      <th>YearBuilt</th>\n",
              "      <th>Bedrooms</th>\n",
              "      <th>FullBathroom</th>\n",
              "      <th>HalfBathroom</th>\n",
              "      <th>Year</th>\n",
              "      <th>Month</th>\n",
              "      <th>Day</th>\n",
              "    </tr>\n",
              "  </thead>\n",
              "  <tbody>\n",
              "    <tr>\n",
              "      <th>0</th>\n",
              "      <td>2045.0</td>\n",
              "      <td>SINGLE FAMILY</td>\n",
              "      <td>1808  FOX CHASE DR, GOODLETTSVILLE</td>\n",
              "      <td>2013-04-09</td>\n",
              "      <td>240000.0</td>\n",
              "      <td>2.300000</td>\n",
              "      <td>50000.000000</td>\n",
              "      <td>168200.000000</td>\n",
              "      <td>235700.000000</td>\n",
              "      <td>1986.000000</td>\n",
              "      <td>3.000000</td>\n",
              "      <td>3.000000</td>\n",
              "      <td>0.000000</td>\n",
              "      <td>2013</td>\n",
              "      <td>4</td>\n",
              "      <td>9</td>\n",
              "    </tr>\n",
              "    <tr>\n",
              "      <th>1</th>\n",
              "      <td>16918.0</td>\n",
              "      <td>SINGLE FAMILY</td>\n",
              "      <td>1832  FOX CHASE DR, GOODLETTSVILLE</td>\n",
              "      <td>2014-06-10</td>\n",
              "      <td>366000.0</td>\n",
              "      <td>3.500000</td>\n",
              "      <td>50000.000000</td>\n",
              "      <td>264100.000000</td>\n",
              "      <td>319000.000000</td>\n",
              "      <td>1998.000000</td>\n",
              "      <td>3.000000</td>\n",
              "      <td>3.000000</td>\n",
              "      <td>2.000000</td>\n",
              "      <td>2014</td>\n",
              "      <td>6</td>\n",
              "      <td>10</td>\n",
              "    </tr>\n",
              "    <tr>\n",
              "      <th>2</th>\n",
              "      <td>54582.0</td>\n",
              "      <td>SINGLE FAMILY</td>\n",
              "      <td>1864 FOX CHASE  DR, GOODLETTSVILLE</td>\n",
              "      <td>2016-09-26</td>\n",
              "      <td>435000.0</td>\n",
              "      <td>2.900000</td>\n",
              "      <td>50000.000000</td>\n",
              "      <td>216200.000000</td>\n",
              "      <td>298000.000000</td>\n",
              "      <td>1987.000000</td>\n",
              "      <td>4.000000</td>\n",
              "      <td>3.000000</td>\n",
              "      <td>0.000000</td>\n",
              "      <td>2016</td>\n",
              "      <td>9</td>\n",
              "      <td>26</td>\n",
              "    </tr>\n",
              "    <tr>\n",
              "      <th>3</th>\n",
              "      <td>43070.0</td>\n",
              "      <td>SINGLE FAMILY</td>\n",
              "      <td>1853  FOX CHASE DR, GOODLETTSVILLE</td>\n",
              "      <td>2016-01-29</td>\n",
              "      <td>255000.0</td>\n",
              "      <td>2.600000</td>\n",
              "      <td>50000.000000</td>\n",
              "      <td>147300.000000</td>\n",
              "      <td>197300.000000</td>\n",
              "      <td>1985.000000</td>\n",
              "      <td>3.000000</td>\n",
              "      <td>3.000000</td>\n",
              "      <td>0.000000</td>\n",
              "      <td>2016</td>\n",
              "      <td>1</td>\n",
              "      <td>29</td>\n",
              "    </tr>\n",
              "    <tr>\n",
              "      <th>4</th>\n",
              "      <td>22714.0</td>\n",
              "      <td>SINGLE FAMILY</td>\n",
              "      <td>1829  FOX CHASE DR, GOODLETTSVILLE</td>\n",
              "      <td>2014-10-10</td>\n",
              "      <td>278000.0</td>\n",
              "      <td>2.000000</td>\n",
              "      <td>50000.000000</td>\n",
              "      <td>152300.000000</td>\n",
              "      <td>202300.000000</td>\n",
              "      <td>1984.000000</td>\n",
              "      <td>4.000000</td>\n",
              "      <td>3.000000</td>\n",
              "      <td>0.000000</td>\n",
              "      <td>2014</td>\n",
              "      <td>10</td>\n",
              "      <td>10</td>\n",
              "    </tr>\n",
              "    <tr>\n",
              "      <th>...</th>\n",
              "      <td>...</td>\n",
              "      <td>...</td>\n",
              "      <td>...</td>\n",
              "      <td>...</td>\n",
              "      <td>...</td>\n",
              "      <td>...</td>\n",
              "      <td>...</td>\n",
              "      <td>...</td>\n",
              "      <td>...</td>\n",
              "      <td>...</td>\n",
              "      <td>...</td>\n",
              "      <td>...</td>\n",
              "      <td>...</td>\n",
              "      <td>...</td>\n",
              "      <td>...</td>\n",
              "      <td>...</td>\n",
              "    </tr>\n",
              "    <tr>\n",
              "      <th>56472</th>\n",
              "      <td>30469.0</td>\n",
              "      <td>SINGLE FAMILY</td>\n",
              "      <td>1435  WINDING CREEK DR, NOLENSVILLE</td>\n",
              "      <td>2015-05-27</td>\n",
              "      <td>157500.0</td>\n",
              "      <td>0.498923</td>\n",
              "      <td>69068.557601</td>\n",
              "      <td>160784.677109</td>\n",
              "      <td>232375.398847</td>\n",
              "      <td>1963.744899</td>\n",
              "      <td>3.089912</td>\n",
              "      <td>1.886014</td>\n",
              "      <td>0.283921</td>\n",
              "      <td>2015</td>\n",
              "      <td>5</td>\n",
              "      <td>27</td>\n",
              "    </tr>\n",
              "    <tr>\n",
              "      <th>56473</th>\n",
              "      <td>27707.0</td>\n",
              "      <td>SINGLE FAMILY</td>\n",
              "      <td>1423  WINDING CREEK DR, NOLENSVILLE</td>\n",
              "      <td>2015-03-02</td>\n",
              "      <td>145000.0</td>\n",
              "      <td>0.498923</td>\n",
              "      <td>69068.557601</td>\n",
              "      <td>160784.677109</td>\n",
              "      <td>232375.398847</td>\n",
              "      <td>1963.744899</td>\n",
              "      <td>3.089912</td>\n",
              "      <td>1.886014</td>\n",
              "      <td>0.283921</td>\n",
              "      <td>2015</td>\n",
              "      <td>3</td>\n",
              "      <td>2</td>\n",
              "    </tr>\n",
              "    <tr>\n",
              "      <th>56474</th>\n",
              "      <td>52709.0</td>\n",
              "      <td>VACANT RESIDENTIAL LAND</td>\n",
              "      <td>1804 GRACE POINT  LN, NOLENSVILLE</td>\n",
              "      <td>2016-08-16</td>\n",
              "      <td>234611.0</td>\n",
              "      <td>0.498923</td>\n",
              "      <td>69068.557601</td>\n",
              "      <td>160784.677109</td>\n",
              "      <td>232375.398847</td>\n",
              "      <td>1963.744899</td>\n",
              "      <td>3.089912</td>\n",
              "      <td>1.886014</td>\n",
              "      <td>0.283921</td>\n",
              "      <td>2016</td>\n",
              "      <td>8</td>\n",
              "      <td>16</td>\n",
              "    </tr>\n",
              "    <tr>\n",
              "      <th>56475</th>\n",
              "      <td>54042.0</td>\n",
              "      <td>VACANT RESIDENTIAL LAND</td>\n",
              "      <td>1709 PARK TERRACE  LN, NOLENSVILLE</td>\n",
              "      <td>2016-09-07</td>\n",
              "      <td>93844.0</td>\n",
              "      <td>0.498923</td>\n",
              "      <td>69068.557601</td>\n",
              "      <td>160784.677109</td>\n",
              "      <td>232375.398847</td>\n",
              "      <td>1963.744899</td>\n",
              "      <td>3.089912</td>\n",
              "      <td>1.886014</td>\n",
              "      <td>0.283921</td>\n",
              "      <td>2016</td>\n",
              "      <td>9</td>\n",
              "      <td>7</td>\n",
              "    </tr>\n",
              "    <tr>\n",
              "      <th>56476</th>\n",
              "      <td>54043.0</td>\n",
              "      <td>VACANT RESIDENTIAL LAND</td>\n",
              "      <td>1713 PARK TERRACE  LN, NOLENSVILLE</td>\n",
              "      <td>2016-09-07</td>\n",
              "      <td>93844.0</td>\n",
              "      <td>0.498923</td>\n",
              "      <td>69068.557601</td>\n",
              "      <td>160784.677109</td>\n",
              "      <td>232375.398847</td>\n",
              "      <td>1963.744899</td>\n",
              "      <td>3.089912</td>\n",
              "      <td>1.886014</td>\n",
              "      <td>0.283921</td>\n",
              "      <td>2016</td>\n",
              "      <td>9</td>\n",
              "      <td>7</td>\n",
              "    </tr>\n",
              "  </tbody>\n",
              "</table>\n",
              "<p>56477 rows × 16 columns</p>\n",
              "</div>\n",
              "      <button class=\"colab-df-convert\" onclick=\"convertToInteractive('df-1b62c196-dbd6-479a-9a11-8c78c869964f')\"\n",
              "              title=\"Convert this dataframe to an interactive table.\"\n",
              "              style=\"display:none;\">\n",
              "        \n",
              "  <svg xmlns=\"http://www.w3.org/2000/svg\" height=\"24px\"viewBox=\"0 0 24 24\"\n",
              "       width=\"24px\">\n",
              "    <path d=\"M0 0h24v24H0V0z\" fill=\"none\"/>\n",
              "    <path d=\"M18.56 5.44l.94 2.06.94-2.06 2.06-.94-2.06-.94-.94-2.06-.94 2.06-2.06.94zm-11 1L8.5 8.5l.94-2.06 2.06-.94-2.06-.94L8.5 2.5l-.94 2.06-2.06.94zm10 10l.94 2.06.94-2.06 2.06-.94-2.06-.94-.94-2.06-.94 2.06-2.06.94z\"/><path d=\"M17.41 7.96l-1.37-1.37c-.4-.4-.92-.59-1.43-.59-.52 0-1.04.2-1.43.59L10.3 9.45l-7.72 7.72c-.78.78-.78 2.05 0 2.83L4 21.41c.39.39.9.59 1.41.59.51 0 1.02-.2 1.41-.59l7.78-7.78 2.81-2.81c.8-.78.8-2.07 0-2.86zM5.41 20L4 18.59l7.72-7.72 1.47 1.35L5.41 20z\"/>\n",
              "  </svg>\n",
              "      </button>\n",
              "      \n",
              "  <style>\n",
              "    .colab-df-container {\n",
              "      display:flex;\n",
              "      flex-wrap:wrap;\n",
              "      gap: 12px;\n",
              "    }\n",
              "\n",
              "    .colab-df-convert {\n",
              "      background-color: #E8F0FE;\n",
              "      border: none;\n",
              "      border-radius: 50%;\n",
              "      cursor: pointer;\n",
              "      display: none;\n",
              "      fill: #1967D2;\n",
              "      height: 32px;\n",
              "      padding: 0 0 0 0;\n",
              "      width: 32px;\n",
              "    }\n",
              "\n",
              "    .colab-df-convert:hover {\n",
              "      background-color: #E2EBFA;\n",
              "      box-shadow: 0px 1px 2px rgba(60, 64, 67, 0.3), 0px 1px 3px 1px rgba(60, 64, 67, 0.15);\n",
              "      fill: #174EA6;\n",
              "    }\n",
              "\n",
              "    [theme=dark] .colab-df-convert {\n",
              "      background-color: #3B4455;\n",
              "      fill: #D2E3FC;\n",
              "    }\n",
              "\n",
              "    [theme=dark] .colab-df-convert:hover {\n",
              "      background-color: #434B5C;\n",
              "      box-shadow: 0px 1px 3px 1px rgba(0, 0, 0, 0.15);\n",
              "      filter: drop-shadow(0px 1px 2px rgba(0, 0, 0, 0.3));\n",
              "      fill: #FFFFFF;\n",
              "    }\n",
              "  </style>\n",
              "\n",
              "      <script>\n",
              "        const buttonEl =\n",
              "          document.querySelector('#df-1b62c196-dbd6-479a-9a11-8c78c869964f button.colab-df-convert');\n",
              "        buttonEl.style.display =\n",
              "          google.colab.kernel.accessAllowed ? 'block' : 'none';\n",
              "\n",
              "        async function convertToInteractive(key) {\n",
              "          const element = document.querySelector('#df-1b62c196-dbd6-479a-9a11-8c78c869964f');\n",
              "          const dataTable =\n",
              "            await google.colab.kernel.invokeFunction('convertToInteractive',\n",
              "                                                     [key], {});\n",
              "          if (!dataTable) return;\n",
              "\n",
              "          const docLinkHtml = 'Like what you see? Visit the ' +\n",
              "            '<a target=\"_blank\" href=https://colab.research.google.com/notebooks/data_table.ipynb>data table notebook</a>'\n",
              "            + ' to learn more about interactive tables.';\n",
              "          element.innerHTML = '';\n",
              "          dataTable['output_type'] = 'display_data';\n",
              "          await google.colab.output.renderOutput(dataTable, element);\n",
              "          const docLink = document.createElement('div');\n",
              "          docLink.innerHTML = docLinkHtml;\n",
              "          element.appendChild(docLink);\n",
              "        }\n",
              "      </script>\n",
              "    </div>\n",
              "  </div>\n",
              "  "
            ]
          },
          "metadata": {},
          "execution_count": 7
        }
      ]
    },
    {
      "cell_type": "markdown",
      "source": [
        "4. Extract the pin number from the property address"
      ],
      "metadata": {
        "id": "wF4BLkYrX9We"
      }
    },
    {
      "cell_type": "code",
      "source": [
        "data['Pin'] = data['PropertyAddress'].str[:2]\n",
        "data['Pin']"
      ],
      "metadata": {
        "colab": {
          "base_uri": "https://localhost:8080/"
        },
        "id": "MSKzocGdX-YS",
        "outputId": "bce74453-5724-4319-943b-76e04758b18b"
      },
      "execution_count": 9,
      "outputs": [
        {
          "output_type": "execute_result",
          "data": {
            "text/plain": [
              "0        18\n",
              "1        18\n",
              "2        18\n",
              "3        18\n",
              "4        18\n",
              "         ..\n",
              "56472    14\n",
              "56473    14\n",
              "56474    18\n",
              "56475    17\n",
              "56476    17\n",
              "Name: Pin, Length: 56477, dtype: object"
            ]
          },
          "metadata": {},
          "execution_count": 9
        }
      ]
    },
    {
      "cell_type": "code",
      "source": [
        "data['Pin'].unique()"
      ],
      "metadata": {
        "colab": {
          "base_uri": "https://localhost:8080/"
        },
        "id": "X2TB9OA2YG1S",
        "outputId": "1f96e650-f0a8-4f26-cd5c-0316effef8ef"
      },
      "execution_count": 10,
      "outputs": [
        {
          "output_type": "execute_result",
          "data": {
            "text/plain": [
              "array(['18', '20', '19', '14', '22', '10', '62', '63', '64', '81', '33',\n",
              "       '36', '11', '13', '61', '60', '31', '75', '76', '24', '72', '71',\n",
              "       '69', '0 ', '23', '52', '40', '41', '50', '51', '30', '21', '37',\n",
              "       '38', '39', '53', 'DI', '46', '42', '43', nan, '70', '12', '91',\n",
              "       '29', '25', '32', '44', '35', '15', '16', '17', '48', '49', '47',\n",
              "       '45', '96', '95', '87', '89', '97', '6 ', '26', '68', '74', '92',\n",
              "       '34', '82', '86', '84', '83', '90', '80', '27', '28', '54', '55',\n",
              "       '56', '57', '58', '59', '5 ', '73', '93', '65', '85', '94', 'KN',\n",
              "       '77', '78', '88', '67', '98', '9 ', '66', '2 ', '99', '79', 'PE',\n",
              "       'HA', '  ', 'AS', '1 ', '3 ', '8 ', '4 ', 'ST', 'CA', 'PO', '7T',\n",
              "       'MO', '9T', 'BO', 'RU', 'WA', '0,', 'LO', 'MA', 'IN', '4T', 'EA',\n",
              "       'WE', '7 ', 'SA', 'GR', 'OR', 'BE', 'OL', 'JO', 'SU', 'EV', 'KI',\n",
              "       'SH', 'BA', 'BI', 'OU', 'PA', 'HI', 'TY', 'CL', 'FR'], dtype=object)"
            ]
          },
          "metadata": {},
          "execution_count": 10
        }
      ]
    },
    {
      "cell_type": "markdown",
      "source": [
        "EXPLORATORY DATA ANALYSIS\n",
        "\n",
        "1. How has the price of properties changed over the years"
      ],
      "metadata": {
        "id": "O8Q-X64WYPkh"
      }
    },
    {
      "cell_type": "code",
      "source": [
        "sales_grouped_data = data.groupby('Year')['SalePrice'].count()\n",
        "sales_grouped_data"
      ],
      "metadata": {
        "colab": {
          "base_uri": "https://localhost:8080/"
        },
        "id": "YGg2q330Yfg8",
        "outputId": "9dbdd4bf-a246-47d5-ee45-fd58b4b6c7eb"
      },
      "execution_count": 11,
      "outputs": [
        {
          "output_type": "execute_result",
          "data": {
            "text/plain": [
              "Year\n",
              "2013    11292\n",
              "2014    14283\n",
              "2015    16829\n",
              "2016    14071\n",
              "2019        2\n",
              "Name: SalePrice, dtype: int64"
            ]
          },
          "metadata": {},
          "execution_count": 11
        }
      ]
    },
    {
      "cell_type": "code",
      "source": [
        "sns.lineplot(x=sales_grouped_data.index, y =sales_grouped_data.values)\n"
      ],
      "metadata": {
        "colab": {
          "base_uri": "https://localhost:8080/",
          "height": 304
        },
        "id": "x1Q8V7RYYkOG",
        "outputId": "8ee6dea5-937e-42ed-f250-7eca7c697466"
      },
      "execution_count": 12,
      "outputs": [
        {
          "output_type": "execute_result",
          "data": {
            "text/plain": [
              "<matplotlib.axes._subplots.AxesSubplot at 0x7f8e5c57e050>"
            ]
          },
          "metadata": {},
          "execution_count": 12
        },
        {
          "output_type": "display_data",
          "data": {
            "text/plain": [
              "<Figure size 432x288 with 1 Axes>"
            ],
            "image/png": "[encoded data removed]"
          },
          "metadata": {
            "needs_background": "light"
          }
        }
      ]
    },
    {
      "cell_type": "markdown",
      "source": [
        "As the above line plot clearly suggests, the sale prices of houses peaked around the year 2015, and ever since have rapidly declined.\n",
        "\n",
        "2. Does a specific month or span of months have the highest property prices?"
      ],
      "metadata": {
        "id": "Y5ob2QScYqIz"
      }
    },
    {
      "cell_type": "code",
      "source": [
        "month_grouped_data = data.groupby('Month')['SalePrice'].sum()\n",
        "month_grouped_data"
      ],
      "metadata": {
        "colab": {
          "base_uri": "https://localhost:8080/"
        },
        "id": "knFCTVrQYsUG",
        "outputId": "bdc499c5-a22b-4291-baf0-894bffcc9292"
      },
      "execution_count": 13,
      "outputs": [
        {
          "output_type": "execute_result",
          "data": {
            "text/plain": [
              "Month\n",
              "1     2.155382e+09\n",
              "2     6.836434e+08\n",
              "3     1.191060e+09\n",
              "4     1.569432e+09\n",
              "5     1.765650e+09\n",
              "6     1.978452e+09\n",
              "7     1.758218e+09\n",
              "8     1.800308e+09\n",
              "9     1.672552e+09\n",
              "10    1.329783e+09\n",
              "11    1.044454e+09\n",
              "12    1.531830e+09\n",
              "Name: SalePrice, dtype: float64"
            ]
          },
          "metadata": {},
          "execution_count": 13
        }
      ]
    },
    {
      "cell_type": "code",
      "source": [
        "sns.barplot(x=month_grouped_data.index,y=month_grouped_data.values)"
      ],
      "metadata": {
        "colab": {
          "base_uri": "https://localhost:8080/",
          "height": 313
        },
        "id": "6VVMIyVsY053",
        "outputId": "0f8ee8e6-b685-4f4a-cc46-67c858a665d1"
      },
      "execution_count": 14,
      "outputs": [
        {
          "output_type": "execute_result",
          "data": {
            "text/plain": [
              "<matplotlib.axes._subplots.AxesSubplot at 0x7f8e5f27cd90>"
            ]
          },
          "metadata": {},
          "execution_count": 14
        },
        {
          "output_type": "display_data",
          "data": {
            "text/plain": [
              "<Figure size 432x288 with 1 Axes>"
            ],
            "image/png": "[encoded data removed]"
          },
          "metadata": {
            "needs_background": "light"
          }
        }
      ]
    },
    {
      "cell_type": "markdown",
      "source": [
        "From the above barplot, we can make out that the sales are at their peak in January, and around the middle of the year in June, albeit slightly less.\n",
        "\n",
        "3. For what purpose were the properties generally purchased?"
      ],
      "metadata": {
        "id": "MqvYoBL5ZCbG"
      }
    },
    {
      "cell_type": "code",
      "source": [
        "data['LandUse'].unique()"
      ],
      "metadata": {
        "colab": {
          "base_uri": "https://localhost:8080/"
        },
        "id": "AtlRHR_3ZENw",
        "outputId": "99601180-7b4d-47ce-db08-648c08c0ab1c"
      },
      "execution_count": 15,
      "outputs": [
        {
          "output_type": "execute_result",
          "data": {
            "text/plain": [
              "array(['SINGLE FAMILY', 'RESIDENTIAL CONDO', 'VACANT RURAL LAND',\n",
              "       'VACANT RES LAND', 'DUPLEX', 'VACANT RESIDENTIAL LAND', 'CHURCH',\n",
              "       'ZERO LOT LINE', 'RESIDENTIAL COMBO/MISC', 'PARSONAGE',\n",
              "       'OFFICE BLDG (ONE OR TWO STORIES)', 'GREENBELT/RES\\nGRRENBELT/RES',\n",
              "       'MOBILE HOME', 'PARKING LOT', 'CLUB/UNION HALL/LODGE', 'TRIPLEX',\n",
              "       'VACANT ZONED MULTI FAMILY', 'SPLIT CLASS', 'CONDO', 'QUADPLEX',\n",
              "       'LIGHT MANUFACTURING', 'FOREST', 'CONVENIENCE MARKET WITHOUT GAS',\n",
              "       'DORMITORY/BOARDING HOUSE', 'GREENBELT', 'DAY CARE CENTER',\n",
              "       'METRO OTHER THAN OFC, SCHOOL,HOSP, OR PARK',\n",
              "       'TERMINAL/DISTRIBUTION WAREHOUSE', 'NIGHTCLUB/LOUNGE',\n",
              "       'RESTURANT/CAFETERIA', 'VACANT COMMERCIAL LAND',\n",
              "       'CONDOMINIUM OFC  OR OTHER COM CONDO', 'STRIP SHOPPING CENTER',\n",
              "       'VACANT RESIENTIAL LAND', 'APARTMENT: LOW RISE (BUILT SINCE 1960)',\n",
              "       'ONE STORY GENERAL RETAIL STORE', 'NON-PROFIT CHARITABLE SERVICE',\n",
              "       'SMALL SERVICE SHOP', 'MORTUARY/CEMETERY'], dtype=object)"
            ]
          },
          "metadata": {},
          "execution_count": 15
        }
      ]
    },
    {
      "cell_type": "code",
      "source": [
        "sns.countplot(x='LandUse', data = data)"
      ],
      "metadata": {
        "colab": {
          "base_uri": "https://localhost:8080/",
          "height": 313
        },
        "id": "t8ujpVd-ZOCf",
        "outputId": "a7b72813-13b1-4dd4-ff21-8adaae31d2ad"
      },
      "execution_count": 16,
      "outputs": [
        {
          "output_type": "execute_result",
          "data": {
            "text/plain": [
              "<matplotlib.axes._subplots.AxesSubplot at 0x7f8e5c5abb50>"
            ]
          },
          "metadata": {},
          "execution_count": 16
        },
        {
          "output_type": "display_data",
          "data": {
            "text/plain": [
              "<Figure size 432x288 with 1 Axes>"
            ],
            "image/png": "[encoded data removed]"
          },
          "metadata": {
            "needs_background": "light"
          }
        }
      ]
    },
    {
      "cell_type": "code",
      "source": [
        "purpose_grouped_data = data.groupby('LandUse')['LandUse'].count()\n",
        "purpose_grouped_data.sort_values(ascending = False)"
      ],
      "metadata": {
        "colab": {
          "base_uri": "https://localhost:8080/"
        },
        "id": "3tJ-ZxI2ZS58",
        "outputId": "7ae016c2-07b6-4dbd-b4f1-4f2e74669368"
      },
      "execution_count": 17,
      "outputs": [
        {
          "output_type": "execute_result",
          "data": {
            "text/plain": [
              "LandUse\n",
              "SINGLE FAMILY                                 34197\n",
              "RESIDENTIAL CONDO                             14080\n",
              "VACANT RESIDENTIAL LAND                        3547\n",
              "VACANT RES LAND                                1549\n",
              "DUPLEX                                         1373\n",
              "ZERO LOT LINE                                  1048\n",
              "CONDO                                           247\n",
              "RESIDENTIAL COMBO/MISC                           95\n",
              "TRIPLEX                                          92\n",
              "QUADPLEX                                         39\n",
              "CONDOMINIUM OFC  OR OTHER COM CONDO              35\n",
              "CHURCH                                           34\n",
              "MOBILE HOME                                      20\n",
              "DORMITORY/BOARDING HOUSE                         19\n",
              "VACANT COMMERCIAL LAND                           17\n",
              "SPLIT CLASS                                      17\n",
              "PARKING LOT                                      11\n",
              "GREENBELT                                        10\n",
              "FOREST                                           10\n",
              "PARSONAGE                                         6\n",
              "VACANT RESIENTIAL LAND                            3\n",
              "GREENBELT/RES\\nGRRENBELT/RES                      3\n",
              "VACANT RURAL LAND                                 2\n",
              "VACANT ZONED MULTI FAMILY                         2\n",
              "TERMINAL/DISTRIBUTION WAREHOUSE                   2\n",
              "APARTMENT: LOW RISE (BUILT SINCE 1960)            2\n",
              "RESTURANT/CAFETERIA                               2\n",
              "OFFICE BLDG (ONE OR TWO STORIES)                  2\n",
              "NON-PROFIT CHARITABLE SERVICE                     2\n",
              "DAY CARE CENTER                                   2\n",
              "SMALL SERVICE SHOP                                1\n",
              "STRIP SHOPPING CENTER                             1\n",
              "NIGHTCLUB/LOUNGE                                  1\n",
              "MORTUARY/CEMETERY                                 1\n",
              "METRO OTHER THAN OFC, SCHOOL,HOSP, OR PARK        1\n",
              "LIGHT MANUFACTURING                               1\n",
              "CONVENIENCE MARKET WITHOUT GAS                    1\n",
              "CLUB/UNION HALL/LODGE                             1\n",
              "ONE STORY GENERAL RETAIL STORE                    1\n",
              "Name: LandUse, dtype: int64"
            ]
          },
          "metadata": {},
          "execution_count": 17
        }
      ]
    },
    {
      "cell_type": "markdown",
      "source": [
        "Clearly, from the above arrangement 'SINGLE FAMILY' and 'RESIDENTIAL CONDO' were the major reasons for the purchase of houses.\n",
        "\n",
        "4. What is the average age of the properties?"
      ],
      "metadata": {
        "id": "aXQ_weiuZZrI"
      }
    },
    {
      "cell_type": "code",
      "source": [
        "math.trunc(data['YearBuilt'].mean())"
      ],
      "metadata": {
        "colab": {
          "base_uri": "https://localhost:8080/"
        },
        "id": "GEGqIbvzZan3",
        "outputId": "302ff264-ddd4-4761-df3c-bf4f8d51b210"
      },
      "execution_count": 18,
      "outputs": [
        {
          "output_type": "execute_result",
          "data": {
            "text/plain": [
              "1963"
            ]
          },
          "metadata": {},
          "execution_count": 18
        }
      ]
    },
    {
      "cell_type": "code",
      "source": [
        "data['YearBuilt'].max()"
      ],
      "metadata": {
        "colab": {
          "base_uri": "https://localhost:8080/"
        },
        "id": "itqOT7VpZizd",
        "outputId": "80de4654-28c8-4f78-c92f-c8b96b312c12"
      },
      "execution_count": 19,
      "outputs": [
        {
          "output_type": "execute_result",
          "data": {
            "text/plain": [
              "2017.0"
            ]
          },
          "metadata": {},
          "execution_count": 19
        }
      ]
    },
    {
      "cell_type": "markdown",
      "source": [
        "5. Have the age of houses affected the price?"
      ],
      "metadata": {
        "id": "b9Rv8jdQZndi"
      }
    },
    {
      "cell_type": "code",
      "source": [
        "data.head()"
      ],
      "metadata": {
        "colab": {
          "base_uri": "https://localhost:8080/",
          "height": 444
        },
        "id": "FIBJlN-eZokP",
        "outputId": "71f5f420-e3df-4bf8-d0e4-b66290ada3b2"
      },
      "execution_count": 20,
      "outputs": [
        {
          "output_type": "execute_result",
          "data": {
            "text/plain": [
              "   UniqueID         LandUse                     PropertyAddress   SaleDate  \\\n",
              "0     2045.0  SINGLE FAMILY  1808  FOX CHASE DR, GOODLETTSVILLE 2013-04-09   \n",
              "1    16918.0  SINGLE FAMILY  1832  FOX CHASE DR, GOODLETTSVILLE 2014-06-10   \n",
              "2    54582.0  SINGLE FAMILY  1864 FOX CHASE  DR, GOODLETTSVILLE 2016-09-26   \n",
              "3    43070.0  SINGLE FAMILY  1853  FOX CHASE DR, GOODLETTSVILLE 2016-01-29   \n",
              "4    22714.0  SINGLE FAMILY  1829  FOX CHASE DR, GOODLETTSVILLE 2014-10-10   \n",
              "\n",
              "   SalePrice  Acre  LandValue  BuildingValue  TotalValue  YearBuilt  Bedrooms  \\\n",
              "0   240000.0   2.3    50000.0       168200.0    235700.0     1986.0       3.0   \n",
              "1   366000.0   3.5    50000.0       264100.0    319000.0     1998.0       3.0   \n",
              "2   435000.0   2.9    50000.0       216200.0    298000.0     1987.0       4.0   \n",
              "3   255000.0   2.6    50000.0       147300.0    197300.0     1985.0       3.0   \n",
              "4   278000.0   2.0    50000.0       152300.0    202300.0     1984.0       4.0   \n",
              "\n",
              "   FullBathroom  HalfBathroom  Year  Month  Day Pin  \n",
              "0           3.0           0.0  2013      4    9  18  \n",
              "1           3.0           2.0  2014      6   10  18  \n",
              "2           3.0           0.0  2016      9   26  18  \n",
              "3           3.0           0.0  2016      1   29  18  \n",
              "4           3.0           0.0  2014     10   10  18  "
            ],
            "text/html": [
              "\n",
              "  <div id=\"df-13513e90-a2fc-4077-ad6b-f6b18d5d247f\">\n",
              "    <div class=\"colab-df-container\">\n",
              "      <div>\n",
              "<style scoped>\n",
              "    .dataframe tbody tr th:only-of-type {\n",
              "        vertical-align: middle;\n",
              "    }\n",
              "\n",
              "    .dataframe tbody tr th {\n",
              "        vertical-align: top;\n",
              "    }\n",
              "\n",
              "    .dataframe thead th {\n",
              "        text-align: right;\n",
              "    }\n",
              "</style>\n",
              "<table border=\"1\" class=\"dataframe\">\n",
              "  <thead>\n",
              "    <tr style=\"text-align: right;\">\n",
              "      <th></th>\n",
              "      <th>UniqueID</th>\n",
              "      <th>LandUse</th>\n",
              "      <th>PropertyAddress</th>\n",
              "      <th>SaleDate</th>\n",
              "      <th>SalePrice</th>\n",
              "      <th>Acre</th>\n",
              "      <th>LandValue</th>\n",
              "      <th>BuildingValue</th>\n",
              "      <th>TotalValue</th>\n",
              "      <th>YearBuilt</th>\n",
              "      <th>Bedrooms</th>\n",
              "      <th>FullBathroom</th>\n",
              "      <th>HalfBathroom</th>\n",
              "      <th>Year</th>\n",
              "      <th>Month</th>\n",
              "      <th>Day</th>\n",
              "      <th>Pin</th>\n",
              "    </tr>\n",
              "  </thead>\n",
              "  <tbody>\n",
              "    <tr>\n",
              "      <th>0</th>\n",
              "      <td>2045.0</td>\n",
              "      <td>SINGLE FAMILY</td>\n",
              "      <td>1808  FOX CHASE DR, GOODLETTSVILLE</td>\n",
              "      <td>2013-04-09</td>\n",
              "      <td>240000.0</td>\n",
              "      <td>2.3</td>\n",
              "      <td>50000.0</td>\n",
              "      <td>168200.0</td>\n",
              "      <td>235700.0</td>\n",
              "      <td>1986.0</td>\n",
              "      <td>3.0</td>\n",
              "      <td>3.0</td>\n",
              "      <td>0.0</td>\n",
              "      <td>2013</td>\n",
              "      <td>4</td>\n",
              "      <td>9</td>\n",
              "      <td>18</td>\n",
              "    </tr>\n",
              "    <tr>\n",
              "      <th>1</th>\n",
              "      <td>16918.0</td>\n",
              "      <td>SINGLE FAMILY</td>\n",
              "      <td>1832  FOX CHASE DR, GOODLETTSVILLE</td>\n",
              "      <td>2014-06-10</td>\n",
              "      <td>366000.0</td>\n",
              "      <td>3.5</td>\n",
              "      <td>50000.0</td>\n",
              "      <td>264100.0</td>\n",
              "      <td>319000.0</td>\n",
              "      <td>1998.0</td>\n",
              "      <td>3.0</td>\n",
              "      <td>3.0</td>\n",
              "      <td>2.0</td>\n",
              "      <td>2014</td>\n",
              "      <td>6</td>\n",
              "      <td>10</td>\n",
              "      <td>18</td>\n",
              "    </tr>\n",
              "    <tr>\n",
              "      <th>2</th>\n",
              "      <td>54582.0</td>\n",
              "      <td>SINGLE FAMILY</td>\n",
              "      <td>1864 FOX CHASE  DR, GOODLETTSVILLE</td>\n",
              "      <td>2016-09-26</td>\n",
              "      <td>435000.0</td>\n",
              "      <td>2.9</td>\n",
              "      <td>50000.0</td>\n",
              "      <td>216200.0</td>\n",
              "      <td>298000.0</td>\n",
              "      <td>1987.0</td>\n",
              "      <td>4.0</td>\n",
              "      <td>3.0</td>\n",
              "      <td>0.0</td>\n",
              "      <td>2016</td>\n",
              "      <td>9</td>\n",
              "      <td>26</td>\n",
              "      <td>18</td>\n",
              "    </tr>\n",
              "    <tr>\n",
              "      <th>3</th>\n",
              "      <td>43070.0</td>\n",
              "      <td>SINGLE FAMILY</td>\n",
              "      <td>1853  FOX CHASE DR, GOODLETTSVILLE</td>\n",
              "      <td>2016-01-29</td>\n",
              "      <td>255000.0</td>\n",
              "      <td>2.6</td>\n",
              "      <td>50000.0</td>\n",
              "      <td>147300.0</td>\n",
              "      <td>197300.0</td>\n",
              "      <td>1985.0</td>\n",
              "      <td>3.0</td>\n",
              "      <td>3.0</td>\n",
              "      <td>0.0</td>\n",
              "      <td>2016</td>\n",
              "      <td>1</td>\n",
              "      <td>29</td>\n",
              "      <td>18</td>\n",
              "    </tr>\n",
              "    <tr>\n",
              "      <th>4</th>\n",
              "      <td>22714.0</td>\n",
              "      <td>SINGLE FAMILY</td>\n",
              "      <td>1829  FOX CHASE DR, GOODLETTSVILLE</td>\n",
              "      <td>2014-10-10</td>\n",
              "      <td>278000.0</td>\n",
              "      <td>2.0</td>\n",
              "      <td>50000.0</td>\n",
              "      <td>152300.0</td>\n",
              "      <td>202300.0</td>\n",
              "      <td>1984.0</td>\n",
              "      <td>4.0</td>\n",
              "      <td>3.0</td>\n",
              "      <td>0.0</td>\n",
              "      <td>2014</td>\n",
              "      <td>10</td>\n",
              "      <td>10</td>\n",
              "      <td>18</td>\n",
              "    </tr>\n",
              "  </tbody>\n",
              "</table>\n",
              "</div>\n",
              "      <button class=\"colab-df-convert\" onclick=\"convertToInteractive('df-13513e90-a2fc-4077-ad6b-f6b18d5d247f')\"\n",
              "              title=\"Convert this dataframe to an interactive table.\"\n",
              "              style=\"display:none;\">\n",
              "        \n",
              "  <svg xmlns=\"http://www.w3.org/2000/svg\" height=\"24px\"viewBox=\"0 0 24 24\"\n",
              "       width=\"24px\">\n",
              "    <path d=\"M0 0h24v24H0V0z\" fill=\"none\"/>\n",
              "    <path d=\"M18.56 5.44l.94 2.06.94-2.06 2.06-.94-2.06-.94-.94-2.06-.94 2.06-2.06.94zm-11 1L8.5 8.5l.94-2.06 2.06-.94-2.06-.94L8.5 2.5l-.94 2.06-2.06.94zm10 10l.94 2.06.94-2.06 2.06-.94-2.06-.94-.94-2.06-.94 2.06-2.06.94z\"/><path d=\"M17.41 7.96l-1.37-1.37c-.4-.4-.92-.59-1.43-.59-.52 0-1.04.2-1.43.59L10.3 9.45l-7.72 7.72c-.78.78-.78 2.05 0 2.83L4 21.41c.39.39.9.59 1.41.59.51 0 1.02-.2 1.41-.59l7.78-7.78 2.81-2.81c.8-.78.8-2.07 0-2.86zM5.41 20L4 18.59l7.72-7.72 1.47 1.35L5.41 20z\"/>\n",
              "  </svg>\n",
              "      </button>\n",
              "      \n",
              "  <style>\n",
              "    .colab-df-container {\n",
              "      display:flex;\n",
              "      flex-wrap:wrap;\n",
              "      gap: 12px;\n",
              "    }\n",
              "\n",
              "    .colab-df-convert {\n",
              "      background-color: #E8F0FE;\n",
              "      border: none;\n",
              "      border-radius: 50%;\n",
              "      cursor: pointer;\n",
              "      display: none;\n",
              "      fill: #1967D2;\n",
              "      height: 32px;\n",
              "      padding: 0 0 0 0;\n",
              "      width: 32px;\n",
              "    }\n",
              "\n",
              "    .colab-df-convert:hover {\n",
              "      background-color: #E2EBFA;\n",
              "      box-shadow: 0px 1px 2px rgba(60, 64, 67, 0.3), 0px 1px 3px 1px rgba(60, 64, 67, 0.15);\n",
              "      fill: #174EA6;\n",
              "    }\n",
              "\n",
              "    [theme=dark] .colab-df-convert {\n",
              "      background-color: #3B4455;\n",
              "      fill: #D2E3FC;\n",
              "    }\n",
              "\n",
              "    [theme=dark] .colab-df-convert:hover {\n",
              "      background-color: #434B5C;\n",
              "      box-shadow: 0px 1px 3px 1px rgba(0, 0, 0, 0.15);\n",
              "      filter: drop-shadow(0px 1px 2px rgba(0, 0, 0, 0.3));\n",
              "      fill: #FFFFFF;\n",
              "    }\n",
              "  </style>\n",
              "\n",
              "      <script>\n",
              "        const buttonEl =\n",
              "          document.querySelector('#df-13513e90-a2fc-4077-ad6b-f6b18d5d247f button.colab-df-convert');\n",
              "        buttonEl.style.display =\n",
              "          google.colab.kernel.accessAllowed ? 'block' : 'none';\n",
              "\n",
              "        async function convertToInteractive(key) {\n",
              "          const element = document.querySelector('#df-13513e90-a2fc-4077-ad6b-f6b18d5d247f');\n",
              "          const dataTable =\n",
              "            await google.colab.kernel.invokeFunction('convertToInteractive',\n",
              "                                                     [key], {});\n",
              "          if (!dataTable) return;\n",
              "\n",
              "          const docLinkHtml = 'Like what you see? Visit the ' +\n",
              "            '<a target=\"_blank\" href=https://colab.research.google.com/notebooks/data_table.ipynb>data table notebook</a>'\n",
              "            + ' to learn more about interactive tables.';\n",
              "          element.innerHTML = '';\n",
              "          dataTable['output_type'] = 'display_data';\n",
              "          await google.colab.output.renderOutput(dataTable, element);\n",
              "          const docLink = document.createElement('div');\n",
              "          docLink.innerHTML = docLinkHtml;\n",
              "          element.appendChild(docLink);\n",
              "        }\n",
              "      </script>\n",
              "    </div>\n",
              "  </div>\n",
              "  "
            ]
          },
          "metadata": {},
          "execution_count": 20
        }
      ]
    },
    {
      "cell_type": "code",
      "source": [
        "age_grouped_data = data.groupby('YearBuilt')['SalePrice'].sum()\n",
        "age_grouped_data"
      ],
      "metadata": {
        "colab": {
          "base_uri": "https://localhost:8080/"
        },
        "id": "F9C4nHfTZxBY",
        "outputId": "7563f8d6-f0f5-4b5f-a2dd-fa2aa86984bb"
      },
      "execution_count": 21,
      "outputs": [
        {
          "output_type": "execute_result",
          "data": {
            "text/plain": [
              "YearBuilt\n",
              "1799.0       500000.0\n",
              "1832.0      1550000.0\n",
              "1870.0      1134900.0\n",
              "1880.0        80000.0\n",
              "1890.0       617500.0\n",
              "             ...     \n",
              "2013.0    119982160.0\n",
              "2014.0    189258629.0\n",
              "2015.0    280238488.0\n",
              "2016.0    217806395.0\n",
              "2017.0      5456548.0\n",
              "Name: SalePrice, Length: 127, dtype: float64"
            ]
          },
          "metadata": {},
          "execution_count": 21
        }
      ]
    },
    {
      "cell_type": "code",
      "source": [
        "sns.lineplot(x=age_grouped_data.index, y=age_grouped_data.values)"
      ],
      "metadata": {
        "colab": {
          "base_uri": "https://localhost:8080/",
          "height": 313
        },
        "id": "8UtqOlAkZ2C6",
        "outputId": "8360d2ab-cf72-4fab-eb69-fa11503bf878"
      },
      "execution_count": 22,
      "outputs": [
        {
          "output_type": "execute_result",
          "data": {
            "text/plain": [
              "<matplotlib.axes._subplots.AxesSubplot at 0x7f8e5f93ef50>"
            ]
          },
          "metadata": {},
          "execution_count": 22
        },
        {
          "output_type": "display_data",
          "data": {
            "text/plain": [
              "<Figure size 432x288 with 1 Axes>"
            ],
            "image/png": "[encoded data removed]"
          },
          "metadata": {
            "needs_background": "light"
          }
        }
      ]
    },
    {
      "cell_type": "code",
      "source": [
        "sns.lineplot(y=age_grouped_data.index, x=age_grouped_data.values)"
      ],
      "metadata": {
        "colab": {
          "base_uri": "https://localhost:8080/",
          "height": 298
        },
        "id": "17xIvuJHZ6TO",
        "outputId": "be9fd448-d8b4-441a-91c5-fc976a868bf0"
      },
      "execution_count": 23,
      "outputs": [
        {
          "output_type": "execute_result",
          "data": {
            "text/plain": [
              "<matplotlib.axes._subplots.AxesSubplot at 0x7f8e5cf16c90>"
            ]
          },
          "metadata": {},
          "execution_count": 23
        },
        {
          "output_type": "display_data",
          "data": {
            "text/plain": [
              "<Figure size 432x288 with 1 Axes>"
            ],
            "image/png": "[encoded data removed]"
          },
          "metadata": {
            "needs_background": "light"
          }
        }
      ]
    },
    {
      "cell_type": "markdown",
      "source": [
        "From the above charts it definitely seems that the houses built during between 1950 and 1960 have peaked a lot. The peak is very high compared to other years, but there isn't any continuing trend to showcase that age has always affected the strength.\n",
        "\n",
        "6. Have the number of rooms in the house affected the price?"
      ],
      "metadata": {
        "id": "1BOerwW-aAnO"
      }
    },
    {
      "cell_type": "code",
      "source": [
        "data['TotalRooms'] = data['Bedrooms'] + data['FullBathroom'] + data['HalfBathroom']\n",
        "data['TotalRooms']"
      ],
      "metadata": {
        "colab": {
          "base_uri": "https://localhost:8080/"
        },
        "id": "jzGX3ZoCaDO7",
        "outputId": "0f917cd9-f942-4870-f13b-ea8eddc7020a"
      },
      "execution_count": 24,
      "outputs": [
        {
          "output_type": "execute_result",
          "data": {
            "text/plain": [
              "0        6.000000\n",
              "1        8.000000\n",
              "2        7.000000\n",
              "3        6.000000\n",
              "4        7.000000\n",
              "           ...   \n",
              "56472    5.259848\n",
              "56473    5.259848\n",
              "56474    5.259848\n",
              "56475    5.259848\n",
              "56476    5.259848\n",
              "Name: TotalRooms, Length: 56477, dtype: float64"
            ]
          },
          "metadata": {},
          "execution_count": 24
        }
      ]
    },
    {
      "cell_type": "code",
      "source": [
        "rooms_grouped_data = data.groupby('TotalRooms')['SalePrice'].sum()\n",
        "rooms_grouped_data"
      ],
      "metadata": {
        "colab": {
          "base_uri": "https://localhost:8080/"
        },
        "id": "TuWNB2_QaKqq",
        "outputId": "2f24aac7-7f32-4c19-f85b-232db4a5ed4b"
      },
      "execution_count": 25,
      "outputs": [
        {
          "output_type": "execute_result",
          "data": {
            "text/plain": [
              "TotalRooms\n",
              "0.000000     1.980190e+07\n",
              "1.000000     2.314900e+06\n",
              "2.000000     1.452930e+07\n",
              "3.000000     5.300959e+08\n",
              "3.089912     6.712295e+07\n",
              "3.283921     1.320000e+05\n",
              "4.000000     7.519915e+08\n",
              "4.283921     1.158600e+06\n",
              "5.000000     1.533834e+09\n",
              "5.169936     9.500000e+04\n",
              "5.259848     1.177669e+10\n",
              "5.283921     7.949500e+06\n",
              "6.000000     1.272163e+09\n",
              "6.283921     1.455751e+07\n",
              "7.000000     7.693272e+08\n",
              "7.283921     4.509000e+06\n",
              "8.000000     5.948213e+08\n",
              "8.089912     3.850000e+05\n",
              "8.283921     2.482000e+06\n",
              "9.000000     3.962831e+08\n",
              "10.000000    2.539612e+08\n",
              "11.000000    2.240590e+08\n",
              "12.000000    1.060801e+08\n",
              "13.000000    7.785814e+07\n",
              "14.000000    3.261509e+07\n",
              "15.000000    7.659456e+06\n",
              "16.000000    4.400000e+06\n",
              "17.000000    8.150000e+06\n",
              "20.000000    3.300000e+06\n",
              "22.000000    2.438500e+06\n",
              "Name: SalePrice, dtype: float64"
            ]
          },
          "metadata": {},
          "execution_count": 25
        }
      ]
    },
    {
      "cell_type": "code",
      "source": [
        "sns.barplot(x = rooms_grouped_data.index, y = rooms_grouped_data.values)"
      ],
      "metadata": {
        "colab": {
          "base_uri": "https://localhost:8080/",
          "height": 313
        },
        "id": "cily-rHLaQOC",
        "outputId": "27b87332-2e01-4ded-8ee1-c68be1a39b32"
      },
      "execution_count": 26,
      "outputs": [
        {
          "output_type": "execute_result",
          "data": {
            "text/plain": [
              "<matplotlib.axes._subplots.AxesSubplot at 0x7f8e5f280e90>"
            ]
          },
          "metadata": {},
          "execution_count": 26
        },
        {
          "output_type": "display_data",
          "data": {
            "text/plain": [
              "<Figure size 432x288 with 1 Axes>"
            ],
            "image/png": "[encoded data removed]"
          },
          "metadata": {
            "needs_background": "light"
          }
        }
      ]
    },
    {
      "cell_type": "code",
      "source": [
        "sns.scatterplot(x=rooms_grouped_data.index, y=rooms_grouped_data.values)"
      ],
      "metadata": {
        "colab": {
          "base_uri": "https://localhost:8080/",
          "height": 313
        },
        "id": "6wjtFF86aUnY",
        "outputId": "9ec3e47d-581e-4b8f-a533-f434c5c8ffb1"
      },
      "execution_count": 27,
      "outputs": [
        {
          "output_type": "execute_result",
          "data": {
            "text/plain": [
              "<matplotlib.axes._subplots.AxesSubplot at 0x7f8e5c3d4110>"
            ]
          },
          "metadata": {},
          "execution_count": 27
        },
        {
          "output_type": "display_data",
          "data": {
            "text/plain": [
              "<Figure size 432x288 with 1 Axes>"
            ],
            "image/png": "[encoded data removed]"
          },
          "metadata": {
            "needs_background": "light"
          }
        }
      ]
    },
    {
      "cell_type": "code",
      "source": [
        "math.trunc(data['TotalRooms'].mean())"
      ],
      "metadata": {
        "colab": {
          "base_uri": "https://localhost:8080/"
        },
        "id": "4VUTNWS0aZrW",
        "outputId": "dc138766-93e2-4a1e-f828-a062a35fb403"
      },
      "execution_count": 28,
      "outputs": [
        {
          "output_type": "execute_result",
          "data": {
            "text/plain": [
              "5"
            ]
          },
          "metadata": {},
          "execution_count": 28
        }
      ]
    },
    {
      "cell_type": "markdown",
      "source": [
        "Here, we make an interesting obervation that the sale prices of houses with 5 rooms is the maximum by a large extent. And, in fact, the the number of houses around 5 also show a considerably high sales price. Since, the mean of all of the number of houses is also 5, it's interesting to note that sales prices tend to be high with an average number of rooms in a house.\n",
        "\n",
        "7. Does the size of the property (no. of acres) have any influence in its price?"
      ],
      "metadata": {
        "id": "hcPu4xYKae-q"
      }
    },
    {
      "cell_type": "code",
      "source": [
        "property_grouped_data=data.groupby('Acre')['SalePrice'].sum()\n",
        "property_grouped_data"
      ],
      "metadata": {
        "colab": {
          "base_uri": "https://localhost:8080/"
        },
        "id": "woNOniq9agRO",
        "outputId": "c5f213e3-ffe0-477a-8681-030cf7f489ef"
      },
      "execution_count": 29,
      "outputs": [
        {
          "output_type": "execute_result",
          "data": {
            "text/plain": [
              "Acre\n",
              "0.01        885600.0\n",
              "0.02       1588500.0\n",
              "0.03      10632500.0\n",
              "0.04       1883650.0\n",
              "0.05       1899200.0\n",
              "             ...    \n",
              "47.50       499900.0\n",
              "51.34       500000.0\n",
              "62.96       580000.0\n",
              "68.79        78000.0\n",
              "160.06     3235790.0\n",
              "Name: SalePrice, Length: 520, dtype: float64"
            ]
          },
          "metadata": {},
          "execution_count": 29
        }
      ]
    },
    {
      "cell_type": "code",
      "source": [
        "plot = sns.lineplot(x=property_grouped_data.index, y=property_grouped_data.values)"
      ],
      "metadata": {
        "colab": {
          "base_uri": "https://localhost:8080/",
          "height": 296
        },
        "id": "3sN2rsyOarmR",
        "outputId": "b6bebf34-ffc6-4a09-fa66-8d1766581b14"
      },
      "execution_count": 30,
      "outputs": [
        {
          "output_type": "display_data",
          "data": {
            "text/plain": [
              "<Figure size 432x288 with 1 Axes>"
            ],
            "image/png": "[encoded data removed]"
          },
          "metadata": {
            "needs_background": "light"
          }
        }
      ]
    },
    {
      "cell_type": "code",
      "source": [
        "plot = sns.lineplot(x=property_grouped_data.index, y=property_grouped_data.values)\n",
        "plot.set(xlim=(0,12))"
      ],
      "metadata": {
        "colab": {
          "base_uri": "https://localhost:8080/",
          "height": 313
        },
        "id": "rIQgkkFHawTa",
        "outputId": "99c64499-1188-4b10-c034-664854c3f3ab"
      },
      "execution_count": 31,
      "outputs": [
        {
          "output_type": "execute_result",
          "data": {
            "text/plain": [
              "[(0.0, 12.0)]"
            ]
          },
          "metadata": {},
          "execution_count": 31
        },
        {
          "output_type": "display_data",
          "data": {
            "text/plain": [
              "<Figure size 432x288 with 1 Axes>"
            ],
            "image/png": "[encoded data removed]"
          },
          "metadata": {
            "needs_background": "light"
          }
        }
      ]
    },
    {
      "cell_type": "code",
      "source": [
        "plot = sns.lineplot(x=property_grouped_data.index, y=property_grouped_data.values)\n",
        "plot.set(xlim=(0,1))"
      ],
      "metadata": {
        "colab": {
          "base_uri": "https://localhost:8080/",
          "height": 313
        },
        "id": "sRlCNMTGa1YK",
        "outputId": "5ca553f5-1d60-4e39-e484-60c20bcea457"
      },
      "execution_count": 32,
      "outputs": [
        {
          "output_type": "execute_result",
          "data": {
            "text/plain": [
              "[(0.0, 1.0)]"
            ]
          },
          "metadata": {},
          "execution_count": 32
        },
        {
          "output_type": "display_data",
          "data": {
            "text/plain": [
              "<Figure size 432x288 with 1 Axes>"
            ],
            "image/png": "[encoded data removed]"
          },
          "metadata": {
            "needs_background": "light"
          }
        }
      ]
    },
    {
      "cell_type": "code",
      "source": [
        "round(data['Acre'].mean(), 2)"
      ],
      "metadata": {
        "colab": {
          "base_uri": "https://localhost:8080/"
        },
        "id": "plPXOpRNa6xv",
        "outputId": "6e2ac27f-b81e-458c-8594-d6d742fca83d"
      },
      "execution_count": 33,
      "outputs": [
        {
          "output_type": "execute_result",
          "data": {
            "text/plain": [
              "0.5"
            ]
          },
          "metadata": {},
          "execution_count": 33
        }
      ]
    },
    {
      "cell_type": "markdown",
      "source": [
        "Though there isn't any repeating trend, it is evident from the above line chart that the sale price is at its highest when the size of the property is near or equal to the mean size, that is 0.5\n",
        "\n",
        "8. Are houses located in specific pin numbers expensive over the others?"
      ],
      "metadata": {
        "id": "8CN3-YD7a_jZ"
      }
    },
    {
      "cell_type": "code",
      "source": [
        "pin_grouped_data = data.groupby('Pin')['SalePrice'].sum()\n",
        "pin_grouped_data"
      ],
      "metadata": {
        "colab": {
          "base_uri": "https://localhost:8080/"
        },
        "id": "X9OMEpb0bA3A",
        "outputId": "c52c8726-2192-4c11-9d07-5c453ae43f78"
      },
      "execution_count": 34,
      "outputs": [
        {
          "output_type": "execute_result",
          "data": {
            "text/plain": [
              "Pin\n",
              "        2275800.0\n",
              "0     154786083.0\n",
              "0,       900000.0\n",
              "1       9455900.0\n",
              "10    714117303.0\n",
              "         ...     \n",
              "ST       515000.0\n",
              "SU       398500.0\n",
              "TY       315000.0\n",
              "WA       379800.0\n",
              "WE       435000.0\n",
              "Name: SalePrice, Length: 140, dtype: float64"
            ]
          },
          "metadata": {},
          "execution_count": 34
        }
      ]
    },
    {
      "cell_type": "code",
      "source": [
        "century = data[data['YearBuilt']>1900]\n",
        "century1 = century[century['YearBuilt']>=2000]\n",
        "century0 = century[century['YearBuilt']<2000]"
      ],
      "metadata": {
        "id": "6AhoUBz0b9Ql"
      },
      "execution_count": 35,
      "outputs": []
    },
    {
      "cell_type": "code",
      "source": [
        "century1"
      ],
      "metadata": {
        "colab": {
          "base_uri": "https://localhost:8080/",
          "height": 852
        },
        "id": "ykQlehWBb_F5",
        "outputId": "758f2dd0-2d5b-4457-ddc5-8bb1e44e3c0b"
      },
      "execution_count": 36,
      "outputs": [
        {
          "output_type": "execute_result",
          "data": {
            "text/plain": [
              "       UniqueID           LandUse                          PropertyAddress  \\\n",
              "8        36500.0    SINGLE FAMILY    1428  SPRINGFIELD HWY, GOODLETTSVILLE   \n",
              "13        4512.0    SINGLE FAMILY        629  GAYLEMORE DR, GOODLETTSVILLE   \n",
              "30       13354.0    SINGLE FAMILY    1412  SPRINGFIELD HWY, GOODLETTSVILLE   \n",
              "60        8903.0  VACANT RES LAND        332  MONCRIEF AVE, GOODLETTSVILLE   \n",
              "61       16921.0    SINGLE FAMILY        332  MONCRIEF AVE, GOODLETTSVILLE   \n",
              "...          ...              ...                                      ...   \n",
              "54080    35530.0    SINGLE FAMILY          4932  HICKORY WOODS  E, ANTIOCH   \n",
              "54083    21899.0    SINGLE FAMILY  4480  LAVERGNE COUCHVILLE PIKE, ANTIOCH   \n",
              "54084    21900.0    SINGLE FAMILY  4480  LAVERGNE COUCHVILLE PIKE, ANTIOCH   \n",
              "54085    33753.0    SINGLE FAMILY  4480  LAVERGNE COUCHVILLE PIKE, ANTIOCH   \n",
              "54214    23448.0    SINGLE FAMILY            105  HOLT HILLS RD, NASHVILLE   \n",
              "\n",
              "        SaleDate  SalePrice  Acre  LandValue  BuildingValue  TotalValue  \\\n",
              "8     2015-08-14   285000.0  1.67    45400.0       176900.0    222300.0   \n",
              "13    2013-06-07   189900.0  1.07    40000.0       203600.0    243600.0   \n",
              "30    2014-03-18   359900.0  1.17    40000.0       333300.0    373300.0   \n",
              "60    2013-10-25    25000.0  0.39    24000.0       175900.0    199900.0   \n",
              "61    2014-06-24   219900.0  0.39    24000.0       175900.0    199900.0   \n",
              "...          ...        ...   ...        ...            ...         ...   \n",
              "54080 2015-07-27   163000.0  0.23    25000.0       123300.0    148300.0   \n",
              "54083 2014-09-03    14000.0  0.31    25000.0       157500.0    182500.0   \n",
              "54084 2014-09-24    23000.0  0.31    25000.0       157500.0    182500.0   \n",
              "54085 2015-06-30   219100.0  0.31    25000.0       157500.0    182500.0   \n",
              "54214 2014-11-12   259000.0  0.46    59000.0       194000.0    253000.0   \n",
              "\n",
              "       YearBuilt  Bedrooms  FullBathroom  HalfBathroom  Year  Month  Day Pin  \\\n",
              "8         2000.0       3.0           2.0           1.0  2015      8   14  14   \n",
              "13        2006.0       4.0           4.0           0.0  2013      6    7  62   \n",
              "30        2000.0       4.0           4.0           1.0  2014      3   18  14   \n",
              "60        2014.0       3.0           2.0           0.0  2013     10   25  33   \n",
              "61        2014.0       3.0           2.0           0.0  2014      6   24  33   \n",
              "...          ...       ...           ...           ...   ...    ...  ...  ..   \n",
              "54080     2000.0       3.0           2.0           0.0  2015      7   27  49   \n",
              "54083     2015.0       3.0           2.0           1.0  2014      9    3  44   \n",
              "54084     2015.0       3.0           2.0           1.0  2014      9   24  44   \n",
              "54085     2015.0       3.0           2.0           1.0  2015      6   30  44   \n",
              "54214     2001.0       3.0           2.0           1.0  2014     11   12  10   \n",
              "\n",
              "       TotalRooms  \n",
              "8             6.0  \n",
              "13            8.0  \n",
              "30            9.0  \n",
              "60            5.0  \n",
              "61            5.0  \n",
              "...           ...  \n",
              "54080         5.0  \n",
              "54083         6.0  \n",
              "54084         6.0  \n",
              "54085         6.0  \n",
              "54214         6.0  \n",
              "\n",
              "[3081 rows x 18 columns]"
            ],
            "text/html": [
              "\n",
              "  <div id=\"df-7601289b-ef68-4eaf-a7b2-53213c55bc4c\">\n",
              "    <div class=\"colab-df-container\">\n",
              "      <div>\n",
              "<style scoped>\n",
              "    .dataframe tbody tr th:only-of-type {\n",
              "        vertical-align: middle;\n",
              "    }\n",
              "\n",
              "    .dataframe tbody tr th {\n",
              "        vertical-align: top;\n",
              "    }\n",
              "\n",
              "    .dataframe thead th {\n",
              "        text-align: right;\n",
              "    }\n",
              "</style>\n",
              "<table border=\"1\" class=\"dataframe\">\n",
              "  <thead>\n",
              "    <tr style=\"text-align: right;\">\n",
              "      <th></th>\n",
              "      <th>UniqueID</th>\n",
              "      <th>LandUse</th>\n",
              "      <th>PropertyAddress</th>\n",
              "      <th>SaleDate</th>\n",
              "      <th>SalePrice</th>\n",
              "      <th>Acre</th>\n",
              "      <th>LandValue</th>\n",
              "      <th>BuildingValue</th>\n",
              "      <th>TotalValue</th>\n",
              "      <th>YearBuilt</th>\n",
              "      <th>Bedrooms</th>\n",
              "      <th>FullBathroom</th>\n",
              "      <th>HalfBathroom</th>\n",
              "      <th>Year</th>\n",
              "      <th>Month</th>\n",
              "      <th>Day</th>\n",
              "      <th>Pin</th>\n",
              "      <th>TotalRooms</th>\n",
              "    </tr>\n",
              "  </thead>\n",
              "  <tbody>\n",
              "    <tr>\n",
              "      <th>8</th>\n",
              "      <td>36500.0</td>\n",
              "      <td>SINGLE FAMILY</td>\n",
              "      <td>1428  SPRINGFIELD HWY, GOODLETTSVILLE</td>\n",
              "      <td>2015-08-14</td>\n",
              "      <td>285000.0</td>\n",
              "      <td>1.67</td>\n",
              "      <td>45400.0</td>\n",
              "      <td>176900.0</td>\n",
              "      <td>222300.0</td>\n",
              "      <td>2000.0</td>\n",
              "      <td>3.0</td>\n",
              "      <td>2.0</td>\n",
              "      <td>1.0</td>\n",
              "      <td>2015</td>\n",
              "      <td>8</td>\n",
              "      <td>14</td>\n",
              "      <td>14</td>\n",
              "      <td>6.0</td>\n",
              "    </tr>\n",
              "    <tr>\n",
              "      <th>13</th>\n",
              "      <td>4512.0</td>\n",
              "      <td>SINGLE FAMILY</td>\n",
              "      <td>629  GAYLEMORE DR, GOODLETTSVILLE</td>\n",
              "      <td>2013-06-07</td>\n",
              "      <td>189900.0</td>\n",
              "      <td>1.07</td>\n",
              "      <td>40000.0</td>\n",
              "      <td>203600.0</td>\n",
              "      <td>243600.0</td>\n",
              "      <td>2006.0</td>\n",
              "      <td>4.0</td>\n",
              "      <td>4.0</td>\n",
              "      <td>0.0</td>\n",
              "      <td>2013</td>\n",
              "      <td>6</td>\n",
              "      <td>7</td>\n",
              "      <td>62</td>\n",
              "      <td>8.0</td>\n",
              "    </tr>\n",
              "    <tr>\n",
              "      <th>30</th>\n",
              "      <td>13354.0</td>\n",
              "      <td>SINGLE FAMILY</td>\n",
              "      <td>1412  SPRINGFIELD HWY, GOODLETTSVILLE</td>\n",
              "      <td>2014-03-18</td>\n",
              "      <td>359900.0</td>\n",
              "      <td>1.17</td>\n",
              "      <td>40000.0</td>\n",
              "      <td>333300.0</td>\n",
              "      <td>373300.0</td>\n",
              "      <td>2000.0</td>\n",
              "      <td>4.0</td>\n",
              "      <td>4.0</td>\n",
              "      <td>1.0</td>\n",
              "      <td>2014</td>\n",
              "      <td>3</td>\n",
              "      <td>18</td>\n",
              "      <td>14</td>\n",
              "      <td>9.0</td>\n",
              "    </tr>\n",
              "    <tr>\n",
              "      <th>60</th>\n",
              "      <td>8903.0</td>\n",
              "      <td>VACANT RES LAND</td>\n",
              "      <td>332  MONCRIEF AVE, GOODLETTSVILLE</td>\n",
              "      <td>2013-10-25</td>\n",
              "      <td>25000.0</td>\n",
              "      <td>0.39</td>\n",
              "      <td>24000.0</td>\n",
              "      <td>175900.0</td>\n",
              "      <td>199900.0</td>\n",
              "      <td>2014.0</td>\n",
              "      <td>3.0</td>\n",
              "      <td>2.0</td>\n",
              "      <td>0.0</td>\n",
              "      <td>2013</td>\n",
              "      <td>10</td>\n",
              "      <td>25</td>\n",
              "      <td>33</td>\n",
              "      <td>5.0</td>\n",
              "    </tr>\n",
              "    <tr>\n",
              "      <th>61</th>\n",
              "      <td>16921.0</td>\n",
              "      <td>SINGLE FAMILY</td>\n",
              "      <td>332  MONCRIEF AVE, GOODLETTSVILLE</td>\n",
              "      <td>2014-06-24</td>\n",
              "      <td>219900.0</td>\n",
              "      <td>0.39</td>\n",
              "      <td>24000.0</td>\n",
              "      <td>175900.0</td>\n",
              "      <td>199900.0</td>\n",
              "      <td>2014.0</td>\n",
              "      <td>3.0</td>\n",
              "      <td>2.0</td>\n",
              "      <td>0.0</td>\n",
              "      <td>2014</td>\n",
              "      <td>6</td>\n",
              "      <td>24</td>\n",
              "      <td>33</td>\n",
              "      <td>5.0</td>\n",
              "    </tr>\n",
              "    <tr>\n",
              "      <th>...</th>\n",
              "      <td>...</td>\n",
              "      <td>...</td>\n",
              "      <td>...</td>\n",
              "      <td>...</td>\n",
              "      <td>...</td>\n",
              "      <td>...</td>\n",
              "      <td>...</td>\n",
              "      <td>...</td>\n",
              "      <td>...</td>\n",
              "      <td>...</td>\n",
              "      <td>...</td>\n",
              "      <td>...</td>\n",
              "      <td>...</td>\n",
              "      <td>...</td>\n",
              "      <td>...</td>\n",
              "      <td>...</td>\n",
              "      <td>...</td>\n",
              "      <td>...</td>\n",
              "    </tr>\n",
              "    <tr>\n",
              "      <th>54080</th>\n",
              "      <td>35530.0</td>\n",
              "      <td>SINGLE FAMILY</td>\n",
              "      <td>4932  HICKORY WOODS  E, ANTIOCH</td>\n",
              "      <td>2015-07-27</td>\n",
              "      <td>163000.0</td>\n",
              "      <td>0.23</td>\n",
              "      <td>25000.0</td>\n",
              "      <td>123300.0</td>\n",
              "      <td>148300.0</td>\n",
              "      <td>2000.0</td>\n",
              "      <td>3.0</td>\n",
              "      <td>2.0</td>\n",
              "      <td>0.0</td>\n",
              "      <td>2015</td>\n",
              "      <td>7</td>\n",
              "      <td>27</td>\n",
              "      <td>49</td>\n",
              "      <td>5.0</td>\n",
              "    </tr>\n",
              "    <tr>\n",
              "      <th>54083</th>\n",
              "      <td>21899.0</td>\n",
              "      <td>SINGLE FAMILY</td>\n",
              "      <td>4480  LAVERGNE COUCHVILLE PIKE, ANTIOCH</td>\n",
              "      <td>2014-09-03</td>\n",
              "      <td>14000.0</td>\n",
              "      <td>0.31</td>\n",
              "      <td>25000.0</td>\n",
              "      <td>157500.0</td>\n",
              "      <td>182500.0</td>\n",
              "      <td>2015.0</td>\n",
              "      <td>3.0</td>\n",
              "      <td>2.0</td>\n",
              "      <td>1.0</td>\n",
              "      <td>2014</td>\n",
              "      <td>9</td>\n",
              "      <td>3</td>\n",
              "      <td>44</td>\n",
              "      <td>6.0</td>\n",
              "    </tr>\n",
              "    <tr>\n",
              "      <th>54084</th>\n",
              "      <td>21900.0</td>\n",
              "      <td>SINGLE FAMILY</td>\n",
              "      <td>4480  LAVERGNE COUCHVILLE PIKE, ANTIOCH</td>\n",
              "      <td>2014-09-24</td>\n",
              "      <td>23000.0</td>\n",
              "      <td>0.31</td>\n",
              "      <td>25000.0</td>\n",
              "      <td>157500.0</td>\n",
              "      <td>182500.0</td>\n",
              "      <td>2015.0</td>\n",
              "      <td>3.0</td>\n",
              "      <td>2.0</td>\n",
              "      <td>1.0</td>\n",
              "      <td>2014</td>\n",
              "      <td>9</td>\n",
              "      <td>24</td>\n",
              "      <td>44</td>\n",
              "      <td>6.0</td>\n",
              "    </tr>\n",
              "    <tr>\n",
              "      <th>54085</th>\n",
              "      <td>33753.0</td>\n",
              "      <td>SINGLE FAMILY</td>\n",
              "      <td>4480  LAVERGNE COUCHVILLE PIKE, ANTIOCH</td>\n",
              "      <td>2015-06-30</td>\n",
              "      <td>219100.0</td>\n",
              "      <td>0.31</td>\n",
              "      <td>25000.0</td>\n",
              "      <td>157500.0</td>\n",
              "      <td>182500.0</td>\n",
              "      <td>2015.0</td>\n",
              "      <td>3.0</td>\n",
              "      <td>2.0</td>\n",
              "      <td>1.0</td>\n",
              "      <td>2015</td>\n",
              "      <td>6</td>\n",
              "      <td>30</td>\n",
              "      <td>44</td>\n",
              "      <td>6.0</td>\n",
              "    </tr>\n",
              "    <tr>\n",
              "      <th>54214</th>\n",
              "      <td>23448.0</td>\n",
              "      <td>SINGLE FAMILY</td>\n",
              "      <td>105  HOLT HILLS RD, NASHVILLE</td>\n",
              "      <td>2014-11-12</td>\n",
              "      <td>259000.0</td>\n",
              "      <td>0.46</td>\n",
              "      <td>59000.0</td>\n",
              "      <td>194000.0</td>\n",
              "      <td>253000.0</td>\n",
              "      <td>2001.0</td>\n",
              "      <td>3.0</td>\n",
              "      <td>2.0</td>\n",
              "      <td>1.0</td>\n",
              "      <td>2014</td>\n",
              "      <td>11</td>\n",
              "      <td>12</td>\n",
              "      <td>10</td>\n",
              "      <td>6.0</td>\n",
              "    </tr>\n",
              "  </tbody>\n",
              "</table>\n",
              "<p>3081 rows × 18 columns</p>\n",
              "</div>\n",
              "      <button class=\"colab-df-convert\" onclick=\"convertToInteractive('df-7601289b-ef68-4eaf-a7b2-53213c55bc4c')\"\n",
              "              title=\"Convert this dataframe to an interactive table.\"\n",
              "              style=\"display:none;\">\n",
              "        \n",
              "  <svg xmlns=\"http://www.w3.org/2000/svg\" height=\"24px\"viewBox=\"0 0 24 24\"\n",
              "       width=\"24px\">\n",
              "    <path d=\"M0 0h24v24H0V0z\" fill=\"none\"/>\n",
              "    <path d=\"M18.56 5.44l.94 2.06.94-2.06 2.06-.94-2.06-.94-.94-2.06-.94 2.06-2.06.94zm-11 1L8.5 8.5l.94-2.06 2.06-.94-2.06-.94L8.5 2.5l-.94 2.06-2.06.94zm10 10l.94 2.06.94-2.06 2.06-.94-2.06-.94-.94-2.06-.94 2.06-2.06.94z\"/><path d=\"M17.41 7.96l-1.37-1.37c-.4-.4-.92-.59-1.43-.59-.52 0-1.04.2-1.43.59L10.3 9.45l-7.72 7.72c-.78.78-.78 2.05 0 2.83L4 21.41c.39.39.9.59 1.41.59.51 0 1.02-.2 1.41-.59l7.78-7.78 2.81-2.81c.8-.78.8-2.07 0-2.86zM5.41 20L4 18.59l7.72-7.72 1.47 1.35L5.41 20z\"/>\n",
              "  </svg>\n",
              "      </button>\n",
              "      \n",
              "  <style>\n",
              "    .colab-df-container {\n",
              "      display:flex;\n",
              "      flex-wrap:wrap;\n",
              "      gap: 12px;\n",
              "    }\n",
              "\n",
              "    .colab-df-convert {\n",
              "      background-color: #E8F0FE;\n",
              "      border: none;\n",
              "      border-radius: 50%;\n",
              "      cursor: pointer;\n",
              "      display: none;\n",
              "      fill: #1967D2;\n",
              "      height: 32px;\n",
              "      padding: 0 0 0 0;\n",
              "      width: 32px;\n",
              "    }\n",
              "\n",
              "    .colab-df-convert:hover {\n",
              "      background-color: #E2EBFA;\n",
              "      box-shadow: 0px 1px 2px rgba(60, 64, 67, 0.3), 0px 1px 3px 1px rgba(60, 64, 67, 0.15);\n",
              "      fill: #174EA6;\n",
              "    }\n",
              "\n",
              "    [theme=dark] .colab-df-convert {\n",
              "      background-color: #3B4455;\n",
              "      fill: #D2E3FC;\n",
              "    }\n",
              "\n",
              "    [theme=dark] .colab-df-convert:hover {\n",
              "      background-color: #434B5C;\n",
              "      box-shadow: 0px 1px 3px 1px rgba(0, 0, 0, 0.15);\n",
              "      filter: drop-shadow(0px 1px 2px rgba(0, 0, 0, 0.3));\n",
              "      fill: #FFFFFF;\n",
              "    }\n",
              "  </style>\n",
              "\n",
              "      <script>\n",
              "        const buttonEl =\n",
              "          document.querySelector('#df-7601289b-ef68-4eaf-a7b2-53213c55bc4c button.colab-df-convert');\n",
              "        buttonEl.style.display =\n",
              "          google.colab.kernel.accessAllowed ? 'block' : 'none';\n",
              "\n",
              "        async function convertToInteractive(key) {\n",
              "          const element = document.querySelector('#df-7601289b-ef68-4eaf-a7b2-53213c55bc4c');\n",
              "          const dataTable =\n",
              "            await google.colab.kernel.invokeFunction('convertToInteractive',\n",
              "                                                     [key], {});\n",
              "          if (!dataTable) return;\n",
              "\n",
              "          const docLinkHtml = 'Like what you see? Visit the ' +\n",
              "            '<a target=\"_blank\" href=https://colab.research.google.com/notebooks/data_table.ipynb>data table notebook</a>'\n",
              "            + ' to learn more about interactive tables.';\n",
              "          element.innerHTML = '';\n",
              "          dataTable['output_type'] = 'display_data';\n",
              "          await google.colab.output.renderOutput(dataTable, element);\n",
              "          const docLink = document.createElement('div');\n",
              "          docLink.innerHTML = docLinkHtml;\n",
              "          element.appendChild(docLink);\n",
              "        }\n",
              "      </script>\n",
              "    </div>\n",
              "  </div>\n",
              "  "
            ]
          },
          "metadata": {},
          "execution_count": 36
        }
      ]
    },
    {
      "cell_type": "code",
      "source": [
        "grouped_data_21 = century1.groupby('YearBuilt')['SalePrice'].sum()\n",
        "grouped_data_21"
      ],
      "metadata": {
        "colab": {
          "base_uri": "https://localhost:8080/"
        },
        "id": "-P5XEgkIcFeF",
        "outputId": "6ae92eea-f9fb-45de-f49e-cf03b1e97fae"
      },
      "execution_count": 37,
      "outputs": [
        {
          "output_type": "execute_result",
          "data": {
            "text/plain": [
              "YearBuilt\n",
              "2000.0     34901984.0\n",
              "2001.0     18059001.0\n",
              "2002.0     20885705.0\n",
              "2003.0     21461521.0\n",
              "2004.0     49467077.0\n",
              "2005.0     61431654.0\n",
              "2006.0     58466851.0\n",
              "2007.0     65135601.0\n",
              "2008.0     40371556.0\n",
              "2009.0     32320700.0\n",
              "2010.0     19659522.0\n",
              "2011.0     24248100.0\n",
              "2012.0     39530301.0\n",
              "2013.0    119982160.0\n",
              "2014.0    189258629.0\n",
              "2015.0    280238488.0\n",
              "2016.0    217806395.0\n",
              "2017.0      5456548.0\n",
              "Name: SalePrice, dtype: float64"
            ]
          },
          "metadata": {},
          "execution_count": 37
        }
      ]
    },
    {
      "cell_type": "code",
      "source": [
        "grouped_data_20 = century0.groupby('YearBuilt')['SalePrice'].count()\n",
        "grouped_data_20"
      ],
      "metadata": {
        "colab": {
          "base_uri": "https://localhost:8080/"
        },
        "id": "aVGNw7BhcLJO",
        "outputId": "4b7ea059-1c0f-4931-e52c-fdeafb87d519"
      },
      "execution_count": 38,
      "outputs": [
        {
          "output_type": "execute_result",
          "data": {
            "text/plain": [
              "YearBuilt\n",
              "1901.0      1\n",
              "1902.0      2\n",
              "1903.0      3\n",
              "1904.0      8\n",
              "1905.0      9\n",
              "         ... \n",
              "1995.0     84\n",
              "1996.0     97\n",
              "1997.0    138\n",
              "1998.0     87\n",
              "1999.0    123\n",
              "Name: SalePrice, Length: 100, dtype: int64"
            ]
          },
          "metadata": {},
          "execution_count": 38
        }
      ]
    },
    {
      "cell_type": "code",
      "source": [
        "sns.lineplot(x = grouped_data_20.index, y = grouped_data_20.values)"
      ],
      "metadata": {
        "colab": {
          "base_uri": "https://localhost:8080/",
          "height": 302
        },
        "id": "oMimF6gWcSMI",
        "outputId": "3712dadf-784f-40b8-94f9-c4380fa1641c"
      },
      "execution_count": 39,
      "outputs": [
        {
          "output_type": "execute_result",
          "data": {
            "text/plain": [
              "<matplotlib.axes._subplots.AxesSubplot at 0x7f8e5f1a2c90>"
            ]
          },
          "metadata": {},
          "execution_count": 39
        },
        {
          "output_type": "display_data",
          "data": {
            "text/plain": [
              "<Figure size 432x288 with 1 Axes>"
            ],
            "image/png": "[encoded data removed]"
          },
          "metadata": {
            "needs_background": "light"
          }
        }
      ]
    },
    {
      "cell_type": "code",
      "source": [
        "sns.lineplot(x = grouped_data_21.index, y = grouped_data_21.values)"
      ],
      "metadata": {
        "colab": {
          "base_uri": "https://localhost:8080/",
          "height": 313
        },
        "id": "m6oelSspcXEd",
        "outputId": "31c771f0-9b0c-424e-c6a8-f25aa4a650b4"
      },
      "execution_count": 40,
      "outputs": [
        {
          "output_type": "execute_result",
          "data": {
            "text/plain": [
              "<matplotlib.axes._subplots.AxesSubplot at 0x7f8e5f1f2d10>"
            ]
          },
          "metadata": {},
          "execution_count": 40
        },
        {
          "output_type": "display_data",
          "data": {
            "text/plain": [
              "<Figure size 432x288 with 1 Axes>"
            ],
            "image/png": "[encoded data removed]"
          },
          "metadata": {
            "needs_background": "light"
          }
        }
      ]
    }
  ]
}